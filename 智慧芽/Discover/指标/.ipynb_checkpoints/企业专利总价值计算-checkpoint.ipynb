{
 "cells": [
  {
   "cell_type": "code",
   "execution_count": 5,
   "metadata": {},
   "outputs": [],
   "source": [
    "import pandas as pd\n",
    "import numpy as np"
   ]
  },
  {
   "cell_type": "code",
   "execution_count": 63,
   "metadata": {},
   "outputs": [],
   "source": [
    "#file = 'D:/Work/PV/company/sample.csv'\n",
    "file = '/Users/caicaiqijun/智慧牙/智慧芽/Discover/指标'"
   ]
  },
  {
   "cell_type": "code",
   "execution_count": 64,
   "metadata": {},
   "outputs": [],
   "source": [
    "with open(file, 'r', encoding='utf8') as fin:\n",
    "    data = pd.read_csv(file)"
   ]
  },
  {
   "cell_type": "code",
   "execution_count": 41,
   "metadata": {
    "code_folding": []
   },
   "outputs": [],
   "source": [
    "def str_to_list(ss):\n",
    "    return ss.replace('[', '').replace(']', '').replace(' ', '').split(',')"
   ]
  },
  {
   "cell_type": "code",
   "execution_count": 32,
   "metadata": {
    "code_folding": []
   },
   "outputs": [],
   "source": [
    "def count_pv_format(vo, vu):\n",
    "    pv = (int(vo)+int(vu))/2\n",
    "    if pv > 100000:\n",
    "        pv = int(pv/10000)*10000\n",
    "    elif pv > 10000:\n",
    "        pv = int(pv/1000)*1000\n",
    "    elif pv > 1000:\n",
    "        pv = int(pv/100)*100\n",
    "    return pv"
   ]
  },
  {
   "cell_type": "code",
   "execution_count": 65,
   "metadata": {
    "code_folding": []
   },
   "outputs": [],
   "source": [
    "fam_info = {}\n",
    "apno_info = {}\n",
    "ans_info = {}\n",
    "for fid,apno,vo_str,vu_str,ans_str in data.values:\n",
    "    if fid not in fam_info:\n",
    "        fam_info[fid] = {'count_apno': 0, 'pv': 0}\n",
    "    fam_info[fid]['count_apno'] += 1\n",
    "    \n",
    "    vo = str_to_list(vo_str)[0]\n",
    "    vu = str_to_list(vu_str)[0]\n",
    "    pv = count_pv_format(vo, vu)\n",
    "    \n",
    "    if fam_info[fid]['pv'] == 0:\n",
    "        fam_info[fid]['pv'] = pv\n",
    "        \n",
    "    apno_info[apno] = {'fid': fid, 'ans_count': len(str_to_list(ans_str))}\n",
    "    \n",
    "    for ans in str_to_list(ans_str):\n",
    "        if ans not in ans_info:\n",
    "            ans_info[ans] = []\n",
    "        ans_info[ans].append(apno)"
   ]
  },
  {
   "cell_type": "code",
   "execution_count": 67,
   "metadata": {
    "code_folding": []
   },
   "outputs": [],
   "source": [
    "pv_calculate = 0\n",
    "for apno in ans_info['d57c3f29-4027-44a8-b580-1eed0cbb8ef6']:\n",
    "    fid = apno_info[apno]['fid']\n",
    "    count_ans = apno_info[apno]['ans_count']\n",
    "    fam_pv = fam_info[fid]['pv']\n",
    "    count_apno = fam_info[fid]['count_apno']\n",
    "    \n",
    "    pv_calculate += fam_pv/count_apno/count_ans"
   ]
  },
  {
   "cell_type": "code",
   "execution_count": 68,
   "metadata": {},
   "outputs": [
    {
     "data": {
      "text/plain": [
       "299200.0"
      ]
     },
     "execution_count": 68,
     "metadata": {},
     "output_type": "execute_result"
    }
   ],
   "source": [
    "# d57c3f29-4027-44a8-b580-1eed0cbb8ef6\n",
    "pv_calculate"
   ]
  },
  {
   "cell_type": "code",
   "execution_count": 61,
   "metadata": {},
   "outputs": [
    {
     "data": {
      "text/plain": [
       "479199.99999999994"
      ]
     },
     "execution_count": 61,
     "metadata": {},
     "output_type": "execute_result"
    }
   ],
   "source": [
    "#fe23f8a8-ebc0-4a77-826a-8fd1b5f5259f\n",
    "pv_calculate"
   ]
  },
  {
   "cell_type": "code",
   "execution_count": 62,
   "metadata": {},
   "outputs": [
    {
     "data": {
      "text/plain": [
       "335.43999999999994"
      ]
     },
     "execution_count": 62,
     "metadata": {},
     "output_type": "execute_result"
    }
   ],
   "source": [
    "pv_calculate*7/10000"
   ]
  },
  {
   "cell_type": "code",
   "execution_count": 44,
   "metadata": {},
   "outputs": [
    {
     "data": {
      "text/plain": [
       "12069499.999999998"
      ]
     },
     "execution_count": 44,
     "metadata": {},
     "output_type": "execute_result"
    }
   ],
   "source": [
    "# 343d9c19-e121-44d6-8078-2ff3620b7309\n",
    "pv_calculate"
   ]
  },
  {
   "cell_type": "code",
   "execution_count": 45,
   "metadata": {},
   "outputs": [
    {
     "data": {
      "text/plain": [
       "8448.649999999998"
      ]
     },
     "execution_count": 45,
     "metadata": {},
     "output_type": "execute_result"
    }
   ],
   "source": [
    "pv_calculate*7/10000"
   ]
  },
  {
   "cell_type": "code",
   "execution_count": 37,
   "metadata": {},
   "outputs": [
    {
     "data": {
      "text/plain": [
       "7637.466666666667"
      ]
     },
     "execution_count": 37,
     "metadata": {},
     "output_type": "execute_result"
    }
   ],
   "source": [
    "# d259c110-99f6-4b44-9817-4e5b09fcf611\n",
    "pv_calculate*7/10000"
   ]
  },
  {
   "cell_type": "code",
   "execution_count": 54,
   "metadata": {},
   "outputs": [
    {
     "data": {
      "text/plain": [
       "9458000.0"
      ]
     },
     "execution_count": 54,
     "metadata": {},
     "output_type": "execute_result"
    }
   ],
   "source": [
    "# d259c110-99f6-4b44-9817-4e5b09fcf611\n",
    "pv_calculate"
   ]
  }
 ],
 "metadata": {
  "kernelspec": {
   "display_name": "Python 3 (ipykernel)",
   "language": "python",
   "name": "python3"
  },
  "language_info": {
   "codemirror_mode": {
    "name": "ipython",
    "version": 3
   },
   "file_extension": ".py",
   "mimetype": "text/x-python",
   "name": "python",
   "nbconvert_exporter": "python",
   "pygments_lexer": "ipython3",
   "version": "3.7.11"
  },
  "toc": {
   "base_numbering": 1,
   "nav_menu": {},
   "number_sections": true,
   "sideBar": true,
   "skip_h1_title": false,
   "title_cell": "Table of Contents",
   "title_sidebar": "Contents",
   "toc_cell": false,
   "toc_position": {},
   "toc_section_display": true,
   "toc_window_display": false
  },
  "varInspector": {
   "cols": {
    "lenName": 16,
    "lenType": 16,
    "lenVar": 40
   },
   "kernels_config": {
    "python": {
     "delete_cmd_postfix": "",
     "delete_cmd_prefix": "del ",
     "library": "var_list.py",
     "varRefreshCmd": "print(var_dic_list())"
    },
    "r": {
     "delete_cmd_postfix": ") ",
     "delete_cmd_prefix": "rm(",
     "library": "var_list.r",
     "varRefreshCmd": "cat(var_dic_list()) "
    }
   },
   "types_to_exclude": [
    "module",
    "function",
    "builtin_function_or_method",
    "instance",
    "_Feature"
   ],
   "window_display": false
  }
 },
 "nbformat": 4,
 "nbformat_minor": 2
}
