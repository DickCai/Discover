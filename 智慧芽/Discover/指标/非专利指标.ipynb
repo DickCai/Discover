{
 "cells": [
  {
   "cell_type": "code",
   "execution_count": 2,
   "id": "4f528fd3",
   "metadata": {},
   "outputs": [],
   "source": [
    "import pandas as pd\n",
    "import os"
   ]
  },
  {
   "cell_type": "markdown",
   "id": "07cdaac8",
   "metadata": {},
   "source": [
    "# 非专利指标"
   ]
  },
  {
   "cell_type": "code",
   "execution_count": 3,
   "id": "b389b241",
   "metadata": {},
   "outputs": [
    {
     "data": {
      "text/html": [
       "<div>\n",
       "<style scoped>\n",
       "    .dataframe tbody tr th:only-of-type {\n",
       "        vertical-align: middle;\n",
       "    }\n",
       "\n",
       "    .dataframe tbody tr th {\n",
       "        vertical-align: top;\n",
       "    }\n",
       "\n",
       "    .dataframe thead th {\n",
       "        text-align: right;\n",
       "    }\n",
       "</style>\n",
       "<table border=\"1\" class=\"dataframe\">\n",
       "  <thead>\n",
       "    <tr style=\"text-align: right;\">\n",
       "      <th></th>\n",
       "      <th>entity_id</th>\n",
       "      <th>factset_entity_id</th>\n",
       "      <th>public</th>\n",
       "      <th>duration</th>\n",
       "      <th>num_members</th>\n",
       "      <th>avg_funding_interval</th>\n",
       "      <th>most_recent_money_q25_formatted</th>\n",
       "      <th>most_recent_time</th>\n",
       "      <th>rounds</th>\n",
       "      <th>money_q25_sum_weighted</th>\n",
       "      <th>entity_id.1</th>\n",
       "      <th>type</th>\n",
       "    </tr>\n",
       "  </thead>\n",
       "  <tbody>\n",
       "    <tr>\n",
       "      <th>0</th>\n",
       "      <td>938f86b2ce1e1c3c5859987dab0d9513</td>\n",
       "      <td>003B9P-E</td>\n",
       "      <td>0.0</td>\n",
       "      <td>NaN</td>\n",
       "      <td>NaN</td>\n",
       "      <td>NaN</td>\n",
       "      <td>NaN</td>\n",
       "      <td>NaN</td>\n",
       "      <td>NaN</td>\n",
       "      <td>NaN</td>\n",
       "      <td>938f86b2ce1e1c3c5859987dab0d9513</td>\n",
       "      <td>[ORG]</td>\n",
       "    </tr>\n",
       "    <tr>\n",
       "      <th>1</th>\n",
       "      <td>da8cf698599860c6e2df8b5b7079c3a5</td>\n",
       "      <td>0T5Q98-E</td>\n",
       "      <td>0.0</td>\n",
       "      <td>NaN</td>\n",
       "      <td>NaN</td>\n",
       "      <td>NaN</td>\n",
       "      <td>NaN</td>\n",
       "      <td>NaN</td>\n",
       "      <td>NaN</td>\n",
       "      <td>NaN</td>\n",
       "      <td>da8cf698599860c6e2df8b5b7079c3a5</td>\n",
       "      <td>[ORG]</td>\n",
       "    </tr>\n",
       "    <tr>\n",
       "      <th>2</th>\n",
       "      <td>6a04b0e39cdbf7133db79b434cbe0014</td>\n",
       "      <td>003CVJ-E</td>\n",
       "      <td>0.0</td>\n",
       "      <td>NaN</td>\n",
       "      <td>NaN</td>\n",
       "      <td>NaN</td>\n",
       "      <td>NaN</td>\n",
       "      <td>NaN</td>\n",
       "      <td>NaN</td>\n",
       "      <td>NaN</td>\n",
       "      <td>6a04b0e39cdbf7133db79b434cbe0014</td>\n",
       "      <td>[ORG]</td>\n",
       "    </tr>\n",
       "    <tr>\n",
       "      <th>3</th>\n",
       "      <td>ecb4252adf6c09e4f769a55a41af5c97</td>\n",
       "      <td>0K1BXC-E</td>\n",
       "      <td>0.0</td>\n",
       "      <td>NaN</td>\n",
       "      <td>NaN</td>\n",
       "      <td>NaN</td>\n",
       "      <td>NaN</td>\n",
       "      <td>NaN</td>\n",
       "      <td>NaN</td>\n",
       "      <td>NaN</td>\n",
       "      <td>ecb4252adf6c09e4f769a55a41af5c97</td>\n",
       "      <td>[ORG]</td>\n",
       "    </tr>\n",
       "    <tr>\n",
       "      <th>4</th>\n",
       "      <td>ef1e7cc2412289176709e6d0a6f8c373</td>\n",
       "      <td>0FR0LV-E</td>\n",
       "      <td>0.0</td>\n",
       "      <td>24.0</td>\n",
       "      <td>NaN</td>\n",
       "      <td>NaN</td>\n",
       "      <td>NaN</td>\n",
       "      <td>NaN</td>\n",
       "      <td>NaN</td>\n",
       "      <td>NaN</td>\n",
       "      <td>ef1e7cc2412289176709e6d0a6f8c373</td>\n",
       "      <td>[TFFI, ORG]</td>\n",
       "    </tr>\n",
       "    <tr>\n",
       "      <th>...</th>\n",
       "      <td>...</td>\n",
       "      <td>...</td>\n",
       "      <td>...</td>\n",
       "      <td>...</td>\n",
       "      <td>...</td>\n",
       "      <td>...</td>\n",
       "      <td>...</td>\n",
       "      <td>...</td>\n",
       "      <td>...</td>\n",
       "      <td>...</td>\n",
       "      <td>...</td>\n",
       "      <td>...</td>\n",
       "    </tr>\n",
       "    <tr>\n",
       "      <th>643870</th>\n",
       "      <td>a7f0585117c7e5fadf4f4a0d55bb4819</td>\n",
       "      <td>08MBK6-E</td>\n",
       "      <td>0.0</td>\n",
       "      <td>NaN</td>\n",
       "      <td>NaN</td>\n",
       "      <td>NaN</td>\n",
       "      <td>NaN</td>\n",
       "      <td>NaN</td>\n",
       "      <td>NaN</td>\n",
       "      <td>NaN</td>\n",
       "      <td>a7f0585117c7e5fadf4f4a0d55bb4819</td>\n",
       "      <td>[ORG, TFFI]</td>\n",
       "    </tr>\n",
       "    <tr>\n",
       "      <th>643871</th>\n",
       "      <td>94369eec6ad4a360428bb8afcac1a5eb</td>\n",
       "      <td>0JZWF6-E</td>\n",
       "      <td>0.0</td>\n",
       "      <td>8.0</td>\n",
       "      <td>NaN</td>\n",
       "      <td>NaN</td>\n",
       "      <td>NaN</td>\n",
       "      <td>NaN</td>\n",
       "      <td>NaN</td>\n",
       "      <td>NaN</td>\n",
       "      <td>94369eec6ad4a360428bb8afcac1a5eb</td>\n",
       "      <td>[ORG, TFFI]</td>\n",
       "    </tr>\n",
       "    <tr>\n",
       "      <th>643872</th>\n",
       "      <td>c3166ab87f2dd3e224694977f64d96e5</td>\n",
       "      <td>0KCJNF-E</td>\n",
       "      <td>0.0</td>\n",
       "      <td>NaN</td>\n",
       "      <td>NaN</td>\n",
       "      <td>NaN</td>\n",
       "      <td>NaN</td>\n",
       "      <td>NaN</td>\n",
       "      <td>NaN</td>\n",
       "      <td>NaN</td>\n",
       "      <td>c3166ab87f2dd3e224694977f64d96e5</td>\n",
       "      <td>[ORG, TFFI]</td>\n",
       "    </tr>\n",
       "    <tr>\n",
       "      <th>643873</th>\n",
       "      <td>778fc5ece0d1f88362c78aceea3e6ee3</td>\n",
       "      <td>07DQZQ-E</td>\n",
       "      <td>0.0</td>\n",
       "      <td>NaN</td>\n",
       "      <td>1013.0</td>\n",
       "      <td>NaN</td>\n",
       "      <td>NaN</td>\n",
       "      <td>NaN</td>\n",
       "      <td>NaN</td>\n",
       "      <td>NaN</td>\n",
       "      <td>778fc5ece0d1f88362c78aceea3e6ee3</td>\n",
       "      <td>[ORG]</td>\n",
       "    </tr>\n",
       "    <tr>\n",
       "      <th>643874</th>\n",
       "      <td>7a673d64a811437cadd28fc83babb473</td>\n",
       "      <td>09CQMQ-E</td>\n",
       "      <td>0.0</td>\n",
       "      <td>NaN</td>\n",
       "      <td>NaN</td>\n",
       "      <td>NaN</td>\n",
       "      <td>NaN</td>\n",
       "      <td>NaN</td>\n",
       "      <td>NaN</td>\n",
       "      <td>NaN</td>\n",
       "      <td>7a673d64a811437cadd28fc83babb473</td>\n",
       "      <td>[ORG]</td>\n",
       "    </tr>\n",
       "  </tbody>\n",
       "</table>\n",
       "<p>643875 rows × 12 columns</p>\n",
       "</div>"
      ],
      "text/plain": [
       "                               entity_id factset_entity_id  public  duration  \\\n",
       "0       938f86b2ce1e1c3c5859987dab0d9513          003B9P-E     0.0       NaN   \n",
       "1       da8cf698599860c6e2df8b5b7079c3a5          0T5Q98-E     0.0       NaN   \n",
       "2       6a04b0e39cdbf7133db79b434cbe0014          003CVJ-E     0.0       NaN   \n",
       "3       ecb4252adf6c09e4f769a55a41af5c97          0K1BXC-E     0.0       NaN   \n",
       "4       ef1e7cc2412289176709e6d0a6f8c373          0FR0LV-E     0.0      24.0   \n",
       "...                                  ...               ...     ...       ...   \n",
       "643870  a7f0585117c7e5fadf4f4a0d55bb4819          08MBK6-E     0.0       NaN   \n",
       "643871  94369eec6ad4a360428bb8afcac1a5eb          0JZWF6-E     0.0       8.0   \n",
       "643872  c3166ab87f2dd3e224694977f64d96e5          0KCJNF-E     0.0       NaN   \n",
       "643873  778fc5ece0d1f88362c78aceea3e6ee3          07DQZQ-E     0.0       NaN   \n",
       "643874  7a673d64a811437cadd28fc83babb473          09CQMQ-E     0.0       NaN   \n",
       "\n",
       "        num_members  avg_funding_interval  most_recent_money_q25_formatted  \\\n",
       "0               NaN                   NaN                              NaN   \n",
       "1               NaN                   NaN                              NaN   \n",
       "2               NaN                   NaN                              NaN   \n",
       "3               NaN                   NaN                              NaN   \n",
       "4               NaN                   NaN                              NaN   \n",
       "...             ...                   ...                              ...   \n",
       "643870          NaN                   NaN                              NaN   \n",
       "643871          NaN                   NaN                              NaN   \n",
       "643872          NaN                   NaN                              NaN   \n",
       "643873       1013.0                   NaN                              NaN   \n",
       "643874          NaN                   NaN                              NaN   \n",
       "\n",
       "        most_recent_time  rounds  money_q25_sum_weighted  \\\n",
       "0                    NaN     NaN                     NaN   \n",
       "1                    NaN     NaN                     NaN   \n",
       "2                    NaN     NaN                     NaN   \n",
       "3                    NaN     NaN                     NaN   \n",
       "4                    NaN     NaN                     NaN   \n",
       "...                  ...     ...                     ...   \n",
       "643870               NaN     NaN                     NaN   \n",
       "643871               NaN     NaN                     NaN   \n",
       "643872               NaN     NaN                     NaN   \n",
       "643873               NaN     NaN                     NaN   \n",
       "643874               NaN     NaN                     NaN   \n",
       "\n",
       "                             entity_id.1         type  \n",
       "0       938f86b2ce1e1c3c5859987dab0d9513        [ORG]  \n",
       "1       da8cf698599860c6e2df8b5b7079c3a5        [ORG]  \n",
       "2       6a04b0e39cdbf7133db79b434cbe0014        [ORG]  \n",
       "3       ecb4252adf6c09e4f769a55a41af5c97        [ORG]  \n",
       "4       ef1e7cc2412289176709e6d0a6f8c373  [TFFI, ORG]  \n",
       "...                                  ...          ...  \n",
       "643870  a7f0585117c7e5fadf4f4a0d55bb4819  [ORG, TFFI]  \n",
       "643871  94369eec6ad4a360428bb8afcac1a5eb  [ORG, TFFI]  \n",
       "643872  c3166ab87f2dd3e224694977f64d96e5  [ORG, TFFI]  \n",
       "643873  778fc5ece0d1f88362c78aceea3e6ee3        [ORG]  \n",
       "643874  7a673d64a811437cadd28fc83babb473        [ORG]  \n",
       "\n",
       "[643875 rows x 12 columns]"
      ]
     },
     "execution_count": 3,
     "metadata": {},
     "output_type": "execute_result"
    }
   ],
   "source": [
    "non_patent=pd.read_csv(\"discover非专利指标.csv\")\n",
    "non_patent"
   ]
  },
  {
   "cell_type": "code",
   "execution_count": 12,
   "id": "797e13f7",
   "metadata": {},
   "outputs": [
    {
     "data": {
      "text/plain": [
       "Index(['entity_id', 'factset_entity_id', 'public', 'duration', 'num_members',\n",
       "       'avg_funding_interval', 'most_recent_money_q25_formatted',\n",
       "       'most_recent_time', 'rounds', 'money_q25_sum_weighted', 'entity_id.1',\n",
       "       'type'],\n",
       "      dtype='object')"
      ]
     },
     "execution_count": 12,
     "metadata": {},
     "output_type": "execute_result"
    }
   ],
   "source": [
    "non_patent.columns"
   ]
  },
  {
   "cell_type": "markdown",
   "id": "283ea621",
   "metadata": {},
   "source": [
    "##  public"
   ]
  },
  {
   "cell_type": "code",
   "execution_count": 13,
   "id": "ea2aa2d9",
   "metadata": {},
   "outputs": [
    {
     "data": {
      "text/plain": [
       "<AxesSubplot:>"
      ]
     },
     "execution_count": 13,
     "metadata": {},
     "output_type": "execute_result"
    },
    {
     "data": {
      "image/png": "[encoded data removed]",
      "text/plain": [
       "<Figure size 432x288 with 1 Axes>"
      ]
     },
     "metadata": {
      "needs_background": "light"
     },
     "output_type": "display_data"
    }
   ],
   "source": [
    "non_patent['public'].hist()"
   ]
  },
  {
   "cell_type": "code",
   "execution_count": 19,
   "id": "e8b385e3",
   "metadata": {},
   "outputs": [
    {
     "data": {
      "text/plain": [
       "<AxesSubplot:>"
      ]
     },
     "execution_count": 19,
     "metadata": {},
     "output_type": "execute_result"
    },
    {
     "data": {
      "image/png": "[encoded data removed]",
      "text/plain": [
       "<Figure size 432x288 with 1 Axes>"
      ]
     },
     "metadata": {
      "needs_background": "light"
     },
     "output_type": "display_data"
    }
   ],
   "source": [
    "non_patent[['public']].boxplot()"
   ]
  },
  {
   "cell_type": "markdown",
   "id": "c81887d2",
   "metadata": {},
   "source": [
    "## duration "
   ]
  },
  {
   "cell_type": "code",
   "execution_count": 4,
   "id": "9d973e97",
   "metadata": {},
   "outputs": [
    {
     "data": {
      "text/plain": [
       "<AxesSubplot:>"
      ]
     },
     "execution_count": 4,
     "metadata": {},
     "output_type": "execute_result"
    },
    {
     "data": {
      "image/png": "[encoded data removed]",
      "text/plain": [
       "<Figure size 432x288 with 1 Axes>"
      ]
     },
     "metadata": {
      "needs_background": "light"
     },
     "output_type": "display_data"
    }
   ],
   "source": [
    "non_patent['duration'].hist()"
   ]
  },
  {
   "cell_type": "code",
   "execution_count": 20,
   "id": "b5dcf9ff",
   "metadata": {},
   "outputs": [
    {
     "data": {
      "text/plain": [
       "<AxesSubplot:>"
      ]
     },
     "execution_count": 20,
     "metadata": {},
     "output_type": "execute_result"
    },
    {
     "data": {
      "image/png": "[encoded data removed]",
      "text/plain": [
       "<Figure size 432x288 with 1 Axes>"
      ]
     },
     "metadata": {
      "needs_background": "light"
     },
     "output_type": "display_data"
    }
   ],
   "source": [
    "non_patent[['duration']].boxplot()"
   ]
  },
  {
   "cell_type": "markdown",
   "id": "50513762",
   "metadata": {},
   "source": [
    "##  num_members"
   ]
  },
  {
   "cell_type": "code",
   "execution_count": 5,
   "id": "7fa9ff64",
   "metadata": {},
   "outputs": [
    {
     "data": {
      "text/plain": [
       "<AxesSubplot:>"
      ]
     },
     "execution_count": 5,
     "metadata": {},
     "output_type": "execute_result"
    },
    {
     "data": {
      "image/png": "[encoded data removed]",
      "text/plain": [
       "<Figure size 432x288 with 1 Axes>"
      ]
     },
     "metadata": {
      "needs_background": "light"
     },
     "output_type": "display_data"
    }
   ],
   "source": [
    "non_patent['num_members'].hist()"
   ]
  },
  {
   "cell_type": "code",
   "execution_count": 21,
   "id": "1f44fa8b",
   "metadata": {},
   "outputs": [
    {
     "data": {
      "text/plain": [
       "<AxesSubplot:>"
      ]
     },
     "execution_count": 21,
     "metadata": {},
     "output_type": "execute_result"
    },
    {
     "data": {
      "image/png": "[encoded data removed]",
      "text/plain": [
       "<Figure size 432x288 with 1 Axes>"
      ]
     },
     "metadata": {
      "needs_background": "light"
     },
     "output_type": "display_data"
    }
   ],
   "source": [
    "non_patent[['num_members']].boxplot()"
   ]
  },
  {
   "cell_type": "code",
   "execution_count": 25,
   "id": "52238c96",
   "metadata": {},
   "outputs": [],
   "source": [
    "alpha=1.5\n",
    "seg_25=non_patent[['num_members']].quantile(0.25)\n",
    "seg_75=non_patent[['num_members']].quantile(0.75)\n",
    "up_limit=seg_75+(seg_75-seg_25)*alpha\n",
    "low_limit=seg_25-(seg_75-seg_25)*alpha"
   ]
  },
  {
   "cell_type": "code",
   "execution_count": 26,
   "id": "8d1d7766",
   "metadata": {},
   "outputs": [
    {
     "data": {
      "text/plain": [
       "num_members    7123.0\n",
       "dtype: float64"
      ]
     },
     "execution_count": 26,
     "metadata": {},
     "output_type": "execute_result"
    }
   ],
   "source": [
    "up_limit"
   ]
  },
  {
   "cell_type": "code",
   "execution_count": 28,
   "id": "9df6b4d5",
   "metadata": {},
   "outputs": [
    {
     "data": {
      "text/html": [
       "<div>\n",
       "<style scoped>\n",
       "    .dataframe tbody tr th:only-of-type {\n",
       "        vertical-align: middle;\n",
       "    }\n",
       "\n",
       "    .dataframe tbody tr th {\n",
       "        vertical-align: top;\n",
       "    }\n",
       "\n",
       "    .dataframe thead th {\n",
       "        text-align: right;\n",
       "    }\n",
       "</style>\n",
       "<table border=\"1\" class=\"dataframe\">\n",
       "  <thead>\n",
       "    <tr style=\"text-align: right;\">\n",
       "      <th></th>\n",
       "      <th>entity_id</th>\n",
       "      <th>factset_entity_id</th>\n",
       "      <th>public</th>\n",
       "      <th>duration</th>\n",
       "      <th>num_members</th>\n",
       "      <th>avg_funding_interval</th>\n",
       "      <th>most_recent_money_q25_formatted</th>\n",
       "      <th>most_recent_time</th>\n",
       "      <th>rounds</th>\n",
       "      <th>money_q25_sum_weighted</th>\n",
       "      <th>entity_id.1</th>\n",
       "      <th>type</th>\n",
       "    </tr>\n",
       "  </thead>\n",
       "  <tbody>\n",
       "    <tr>\n",
       "      <th>33</th>\n",
       "      <td>51aa8713a75b704b3658726e458d99a1</td>\n",
       "      <td>05HWP5-E</td>\n",
       "      <td>1.0</td>\n",
       "      <td>107.0</td>\n",
       "      <td>17258.0</td>\n",
       "      <td>NaN</td>\n",
       "      <td>NaN</td>\n",
       "      <td>NaN</td>\n",
       "      <td>NaN</td>\n",
       "      <td>NaN</td>\n",
       "      <td>51aa8713a75b704b3658726e458d99a1</td>\n",
       "      <td>[ORG]</td>\n",
       "    </tr>\n",
       "    <tr>\n",
       "      <th>787</th>\n",
       "      <td>70a3c996c345fadab1188b691d758261</td>\n",
       "      <td>05HWH0-E</td>\n",
       "      <td>1.0</td>\n",
       "      <td>49.0</td>\n",
       "      <td>11866.0</td>\n",
       "      <td>NaN</td>\n",
       "      <td>NaN</td>\n",
       "      <td>NaN</td>\n",
       "      <td>NaN</td>\n",
       "      <td>NaN</td>\n",
       "      <td>70a3c996c345fadab1188b691d758261</td>\n",
       "      <td>[ORG]</td>\n",
       "    </tr>\n",
       "    <tr>\n",
       "      <th>901</th>\n",
       "      <td>ce967455ab8e1a84353cf37395ef3822</td>\n",
       "      <td>0025XP-E</td>\n",
       "      <td>1.0</td>\n",
       "      <td>53.0</td>\n",
       "      <td>10779.0</td>\n",
       "      <td>NaN</td>\n",
       "      <td>NaN</td>\n",
       "      <td>NaN</td>\n",
       "      <td>NaN</td>\n",
       "      <td>NaN</td>\n",
       "      <td>ce967455ab8e1a84353cf37395ef3822</td>\n",
       "      <td>[ORG]</td>\n",
       "    </tr>\n",
       "    <tr>\n",
       "      <th>1453</th>\n",
       "      <td>2af417f3a6a15b220a78ccc71ab16dfb</td>\n",
       "      <td>05HZY7-E</td>\n",
       "      <td>1.0</td>\n",
       "      <td>26.0</td>\n",
       "      <td>12225.0</td>\n",
       "      <td>NaN</td>\n",
       "      <td>NaN</td>\n",
       "      <td>NaN</td>\n",
       "      <td>NaN</td>\n",
       "      <td>NaN</td>\n",
       "      <td>2af417f3a6a15b220a78ccc71ab16dfb</td>\n",
       "      <td>[ORG]</td>\n",
       "    </tr>\n",
       "    <tr>\n",
       "      <th>1589</th>\n",
       "      <td>6f50a624c8b8a29f9df8984061ccb182</td>\n",
       "      <td>0017BJ-E</td>\n",
       "      <td>1.0</td>\n",
       "      <td>33.0</td>\n",
       "      <td>15000.0</td>\n",
       "      <td>31.0</td>\n",
       "      <td>19805951.2</td>\n",
       "      <td>2.624658</td>\n",
       "      <td>2.0</td>\n",
       "      <td>8.126395e+06</td>\n",
       "      <td>6f50a624c8b8a29f9df8984061ccb182</td>\n",
       "      <td>[ORG]</td>\n",
       "    </tr>\n",
       "    <tr>\n",
       "      <th>...</th>\n",
       "      <td>...</td>\n",
       "      <td>...</td>\n",
       "      <td>...</td>\n",
       "      <td>...</td>\n",
       "      <td>...</td>\n",
       "      <td>...</td>\n",
       "      <td>...</td>\n",
       "      <td>...</td>\n",
       "      <td>...</td>\n",
       "      <td>...</td>\n",
       "      <td>...</td>\n",
       "      <td>...</td>\n",
       "    </tr>\n",
       "    <tr>\n",
       "      <th>643305</th>\n",
       "      <td>1b0fcdf359d1327bd02795b954ae3cb0</td>\n",
       "      <td>0608MF-E</td>\n",
       "      <td>1.0</td>\n",
       "      <td>21.0</td>\n",
       "      <td>9551.0</td>\n",
       "      <td>NaN</td>\n",
       "      <td>NaN</td>\n",
       "      <td>NaN</td>\n",
       "      <td>NaN</td>\n",
       "      <td>NaN</td>\n",
       "      <td>1b0fcdf359d1327bd02795b954ae3cb0</td>\n",
       "      <td>[TFFI, ORG]</td>\n",
       "    </tr>\n",
       "    <tr>\n",
       "      <th>643348</th>\n",
       "      <td>2088394ad6a4f16d6a241e5977c754e9</td>\n",
       "      <td>0015SG-E</td>\n",
       "      <td>0.0</td>\n",
       "      <td>NaN</td>\n",
       "      <td>26269.0</td>\n",
       "      <td>NaN</td>\n",
       "      <td>NaN</td>\n",
       "      <td>NaN</td>\n",
       "      <td>NaN</td>\n",
       "      <td>NaN</td>\n",
       "      <td>2088394ad6a4f16d6a241e5977c754e9</td>\n",
       "      <td>[ORG]</td>\n",
       "    </tr>\n",
       "    <tr>\n",
       "      <th>643643</th>\n",
       "      <td>325e300a15acd281b5cfa17cbbc1101e</td>\n",
       "      <td>001979-E</td>\n",
       "      <td>0.0</td>\n",
       "      <td>78.0</td>\n",
       "      <td>12049.0</td>\n",
       "      <td>NaN</td>\n",
       "      <td>NaN</td>\n",
       "      <td>NaN</td>\n",
       "      <td>NaN</td>\n",
       "      <td>NaN</td>\n",
       "      <td>325e300a15acd281b5cfa17cbbc1101e</td>\n",
       "      <td>[ORG]</td>\n",
       "    </tr>\n",
       "    <tr>\n",
       "      <th>643789</th>\n",
       "      <td>f20b1d59c1b1ee792c0817d24d232add</td>\n",
       "      <td>000HNQ-E</td>\n",
       "      <td>1.0</td>\n",
       "      <td>66.0</td>\n",
       "      <td>13900.0</td>\n",
       "      <td>NaN</td>\n",
       "      <td>NaN</td>\n",
       "      <td>NaN</td>\n",
       "      <td>NaN</td>\n",
       "      <td>NaN</td>\n",
       "      <td>f20b1d59c1b1ee792c0817d24d232add</td>\n",
       "      <td>[ORG]</td>\n",
       "    </tr>\n",
       "    <tr>\n",
       "      <th>643844</th>\n",
       "      <td>09fcdee387697e78bd7c89b607416037</td>\n",
       "      <td>071S8F-E</td>\n",
       "      <td>0.0</td>\n",
       "      <td>NaN</td>\n",
       "      <td>9300.0</td>\n",
       "      <td>NaN</td>\n",
       "      <td>NaN</td>\n",
       "      <td>NaN</td>\n",
       "      <td>NaN</td>\n",
       "      <td>NaN</td>\n",
       "      <td>09fcdee387697e78bd7c89b607416037</td>\n",
       "      <td>[ORG]</td>\n",
       "    </tr>\n",
       "  </tbody>\n",
       "</table>\n",
       "<p>3070 rows × 12 columns</p>\n",
       "</div>"
      ],
      "text/plain": [
       "                               entity_id factset_entity_id  public  duration  \\\n",
       "33      51aa8713a75b704b3658726e458d99a1          05HWP5-E     1.0     107.0   \n",
       "787     70a3c996c345fadab1188b691d758261          05HWH0-E     1.0      49.0   \n",
       "901     ce967455ab8e1a84353cf37395ef3822          0025XP-E     1.0      53.0   \n",
       "1453    2af417f3a6a15b220a78ccc71ab16dfb          05HZY7-E     1.0      26.0   \n",
       "1589    6f50a624c8b8a29f9df8984061ccb182          0017BJ-E     1.0      33.0   \n",
       "...                                  ...               ...     ...       ...   \n",
       "643305  1b0fcdf359d1327bd02795b954ae3cb0          0608MF-E     1.0      21.0   \n",
       "643348  2088394ad6a4f16d6a241e5977c754e9          0015SG-E     0.0       NaN   \n",
       "643643  325e300a15acd281b5cfa17cbbc1101e          001979-E     0.0      78.0   \n",
       "643789  f20b1d59c1b1ee792c0817d24d232add          000HNQ-E     1.0      66.0   \n",
       "643844  09fcdee387697e78bd7c89b607416037          071S8F-E     0.0       NaN   \n",
       "\n",
       "        num_members  avg_funding_interval  most_recent_money_q25_formatted  \\\n",
       "33          17258.0                   NaN                              NaN   \n",
       "787         11866.0                   NaN                              NaN   \n",
       "901         10779.0                   NaN                              NaN   \n",
       "1453        12225.0                   NaN                              NaN   \n",
       "1589        15000.0                  31.0                       19805951.2   \n",
       "...             ...                   ...                              ...   \n",
       "643305       9551.0                   NaN                              NaN   \n",
       "643348      26269.0                   NaN                              NaN   \n",
       "643643      12049.0                   NaN                              NaN   \n",
       "643789      13900.0                   NaN                              NaN   \n",
       "643844       9300.0                   NaN                              NaN   \n",
       "\n",
       "        most_recent_time  rounds  money_q25_sum_weighted  \\\n",
       "33                   NaN     NaN                     NaN   \n",
       "787                  NaN     NaN                     NaN   \n",
       "901                  NaN     NaN                     NaN   \n",
       "1453                 NaN     NaN                     NaN   \n",
       "1589            2.624658     2.0            8.126395e+06   \n",
       "...                  ...     ...                     ...   \n",
       "643305               NaN     NaN                     NaN   \n",
       "643348               NaN     NaN                     NaN   \n",
       "643643               NaN     NaN                     NaN   \n",
       "643789               NaN     NaN                     NaN   \n",
       "643844               NaN     NaN                     NaN   \n",
       "\n",
       "                             entity_id.1         type  \n",
       "33      51aa8713a75b704b3658726e458d99a1        [ORG]  \n",
       "787     70a3c996c345fadab1188b691d758261        [ORG]  \n",
       "901     ce967455ab8e1a84353cf37395ef3822        [ORG]  \n",
       "1453    2af417f3a6a15b220a78ccc71ab16dfb        [ORG]  \n",
       "1589    6f50a624c8b8a29f9df8984061ccb182        [ORG]  \n",
       "...                                  ...          ...  \n",
       "643305  1b0fcdf359d1327bd02795b954ae3cb0  [TFFI, ORG]  \n",
       "643348  2088394ad6a4f16d6a241e5977c754e9        [ORG]  \n",
       "643643  325e300a15acd281b5cfa17cbbc1101e        [ORG]  \n",
       "643789  f20b1d59c1b1ee792c0817d24d232add        [ORG]  \n",
       "643844  09fcdee387697e78bd7c89b607416037        [ORG]  \n",
       "\n",
       "[3070 rows x 12 columns]"
      ]
     },
     "execution_count": 28,
     "metadata": {},
     "output_type": "execute_result"
    }
   ],
   "source": [
    "non_patent.query('num_members>7123')"
   ]
  },
  {
   "cell_type": "markdown",
   "id": "9b4750b8",
   "metadata": {},
   "source": [
    "##  avg_funding_interval"
   ]
  },
  {
   "cell_type": "code",
   "execution_count": 14,
   "id": "07485f13",
   "metadata": {},
   "outputs": [
    {
     "data": {
      "text/plain": [
       "<AxesSubplot:>"
      ]
     },
     "execution_count": 14,
     "metadata": {},
     "output_type": "execute_result"
    },
    {
     "data": {
      "image/png": "[encoded data removed]",
      "text/plain": [
       "<Figure size 432x288 with 1 Axes>"
      ]
     },
     "metadata": {
      "needs_background": "light"
     },
     "output_type": "display_data"
    }
   ],
   "source": [
    "non_patent['avg_funding_interval'].hist()"
   ]
  },
  {
   "cell_type": "code",
   "execution_count": 22,
   "id": "cd61d22e",
   "metadata": {},
   "outputs": [
    {
     "data": {
      "text/plain": [
       "<AxesSubplot:>"
      ]
     },
     "execution_count": 22,
     "metadata": {},
     "output_type": "execute_result"
    },
    {
     "data": {
      "image/png": "[encoded data removed]",
      "text/plain": [
       "<Figure size 432x288 with 1 Axes>"
      ]
     },
     "metadata": {
      "needs_background": "light"
     },
     "output_type": "display_data"
    }
   ],
   "source": [
    "non_patent[['avg_funding_interval']].boxplot()"
   ]
  },
  {
   "cell_type": "code",
   "execution_count": 30,
   "id": "47e58ae8",
   "metadata": {},
   "outputs": [],
   "source": [
    "alpha=1.5\n",
    "seg_25=non_patent[['avg_funding_interval']].quantile(0.25)\n",
    "seg_75=non_patent[['avg_funding_interval']].quantile(0.75)\n",
    "up_limit=seg_75+(seg_75-seg_25)*alpha\n",
    "low_limit=seg_25-(seg_75-seg_25)*alpha"
   ]
  },
  {
   "cell_type": "code",
   "execution_count": 34,
   "id": "2c8675b7",
   "metadata": {},
   "outputs": [
    {
     "data": {
      "text/plain": [
       "avg_funding_interval    4.076712\n",
       "dtype: float64"
      ]
     },
     "execution_count": 34,
     "metadata": {},
     "output_type": "execute_result"
    }
   ],
   "source": [
    "up_limit"
   ]
  },
  {
   "cell_type": "code",
   "execution_count": 37,
   "id": "c0d0e8cd",
   "metadata": {},
   "outputs": [
    {
     "data": {
      "text/html": [
       "<div>\n",
       "<style scoped>\n",
       "    .dataframe tbody tr th:only-of-type {\n",
       "        vertical-align: middle;\n",
       "    }\n",
       "\n",
       "    .dataframe tbody tr th {\n",
       "        vertical-align: top;\n",
       "    }\n",
       "\n",
       "    .dataframe thead th {\n",
       "        text-align: right;\n",
       "    }\n",
       "</style>\n",
       "<table border=\"1\" class=\"dataframe\">\n",
       "  <thead>\n",
       "    <tr style=\"text-align: right;\">\n",
       "      <th></th>\n",
       "      <th>entity_id</th>\n",
       "      <th>avg_funding_interval</th>\n",
       "    </tr>\n",
       "  </thead>\n",
       "  <tbody>\n",
       "    <tr>\n",
       "      <th>0</th>\n",
       "      <td>938f86b2ce1e1c3c5859987dab0d9513</td>\n",
       "      <td>NaN</td>\n",
       "    </tr>\n",
       "    <tr>\n",
       "      <th>1</th>\n",
       "      <td>da8cf698599860c6e2df8b5b7079c3a5</td>\n",
       "      <td>NaN</td>\n",
       "    </tr>\n",
       "    <tr>\n",
       "      <th>2</th>\n",
       "      <td>6a04b0e39cdbf7133db79b434cbe0014</td>\n",
       "      <td>NaN</td>\n",
       "    </tr>\n",
       "    <tr>\n",
       "      <th>3</th>\n",
       "      <td>ecb4252adf6c09e4f769a55a41af5c97</td>\n",
       "      <td>NaN</td>\n",
       "    </tr>\n",
       "    <tr>\n",
       "      <th>4</th>\n",
       "      <td>ef1e7cc2412289176709e6d0a6f8c373</td>\n",
       "      <td>NaN</td>\n",
       "    </tr>\n",
       "    <tr>\n",
       "      <th>...</th>\n",
       "      <td>...</td>\n",
       "      <td>...</td>\n",
       "    </tr>\n",
       "    <tr>\n",
       "      <th>643870</th>\n",
       "      <td>a7f0585117c7e5fadf4f4a0d55bb4819</td>\n",
       "      <td>NaN</td>\n",
       "    </tr>\n",
       "    <tr>\n",
       "      <th>643871</th>\n",
       "      <td>94369eec6ad4a360428bb8afcac1a5eb</td>\n",
       "      <td>NaN</td>\n",
       "    </tr>\n",
       "    <tr>\n",
       "      <th>643872</th>\n",
       "      <td>c3166ab87f2dd3e224694977f64d96e5</td>\n",
       "      <td>NaN</td>\n",
       "    </tr>\n",
       "    <tr>\n",
       "      <th>643873</th>\n",
       "      <td>778fc5ece0d1f88362c78aceea3e6ee3</td>\n",
       "      <td>NaN</td>\n",
       "    </tr>\n",
       "    <tr>\n",
       "      <th>643874</th>\n",
       "      <td>7a673d64a811437cadd28fc83babb473</td>\n",
       "      <td>NaN</td>\n",
       "    </tr>\n",
       "  </tbody>\n",
       "</table>\n",
       "<p>643875 rows × 2 columns</p>\n",
       "</div>"
      ],
      "text/plain": [
       "                               entity_id  avg_funding_interval\n",
       "0       938f86b2ce1e1c3c5859987dab0d9513                   NaN\n",
       "1       da8cf698599860c6e2df8b5b7079c3a5                   NaN\n",
       "2       6a04b0e39cdbf7133db79b434cbe0014                   NaN\n",
       "3       ecb4252adf6c09e4f769a55a41af5c97                   NaN\n",
       "4       ef1e7cc2412289176709e6d0a6f8c373                   NaN\n",
       "...                                  ...                   ...\n",
       "643870  a7f0585117c7e5fadf4f4a0d55bb4819                   NaN\n",
       "643871  94369eec6ad4a360428bb8afcac1a5eb                   NaN\n",
       "643872  c3166ab87f2dd3e224694977f64d96e5                   NaN\n",
       "643873  778fc5ece0d1f88362c78aceea3e6ee3                   NaN\n",
       "643874  7a673d64a811437cadd28fc83babb473                   NaN\n",
       "\n",
       "[643875 rows x 2 columns]"
      ]
     },
     "execution_count": 37,
     "metadata": {},
     "output_type": "execute_result"
    }
   ],
   "source": [
    "non_patent[['entity_id','avg_funding_interval']]"
   ]
  },
  {
   "cell_type": "code",
   "execution_count": 35,
   "id": "b7d12091",
   "metadata": {},
   "outputs": [
    {
     "data": {
      "text/html": [
       "<div>\n",
       "<style scoped>\n",
       "    .dataframe tbody tr th:only-of-type {\n",
       "        vertical-align: middle;\n",
       "    }\n",
       "\n",
       "    .dataframe tbody tr th {\n",
       "        vertical-align: top;\n",
       "    }\n",
       "\n",
       "    .dataframe thead th {\n",
       "        text-align: right;\n",
       "    }\n",
       "</style>\n",
       "<table border=\"1\" class=\"dataframe\">\n",
       "  <thead>\n",
       "    <tr style=\"text-align: right;\">\n",
       "      <th></th>\n",
       "      <th>entity_id</th>\n",
       "      <th>factset_entity_id</th>\n",
       "      <th>public</th>\n",
       "      <th>duration</th>\n",
       "      <th>num_members</th>\n",
       "      <th>avg_funding_interval</th>\n",
       "      <th>most_recent_money_q25_formatted</th>\n",
       "      <th>most_recent_time</th>\n",
       "      <th>rounds</th>\n",
       "      <th>money_q25_sum_weighted</th>\n",
       "      <th>entity_id.1</th>\n",
       "      <th>type</th>\n",
       "    </tr>\n",
       "  </thead>\n",
       "  <tbody>\n",
       "    <tr>\n",
       "      <th>5627</th>\n",
       "      <td>f89d46cbcf244e90725b89674bc64cd7</td>\n",
       "      <td>07GCYV-E</td>\n",
       "      <td>0.0</td>\n",
       "      <td>35.0</td>\n",
       "      <td>NaN</td>\n",
       "      <td>0.0</td>\n",
       "      <td>1.460000e+08</td>\n",
       "      <td>9.663014</td>\n",
       "      <td>2.0</td>\n",
       "      <td>3.285000e+07</td>\n",
       "      <td>f89d46cbcf244e90725b89674bc64cd7</td>\n",
       "      <td>[ORG]</td>\n",
       "    </tr>\n",
       "    <tr>\n",
       "      <th>8012</th>\n",
       "      <td>ce04454598e2ce18b2b6fbce4ac82e05</td>\n",
       "      <td>0G5BZH-E</td>\n",
       "      <td>0.0</td>\n",
       "      <td>27.0</td>\n",
       "      <td>NaN</td>\n",
       "      <td>0.0</td>\n",
       "      <td>2.246215e+07</td>\n",
       "      <td>6.600000</td>\n",
       "      <td>2.0</td>\n",
       "      <td>5.466978e+06</td>\n",
       "      <td>ce04454598e2ce18b2b6fbce4ac82e05</td>\n",
       "      <td>[ORG]</td>\n",
       "    </tr>\n",
       "    <tr>\n",
       "      <th>13201</th>\n",
       "      <td>14f360dc7a989f91f7a10fe0f054d38d</td>\n",
       "      <td>0HG9BF-E</td>\n",
       "      <td>1.0</td>\n",
       "      <td>5.0</td>\n",
       "      <td>89.0</td>\n",
       "      <td>0.0</td>\n",
       "      <td>9.855000e+08</td>\n",
       "      <td>0.561644</td>\n",
       "      <td>2.0</td>\n",
       "      <td>1.022000e+09</td>\n",
       "      <td>14f360dc7a989f91f7a10fe0f054d38d</td>\n",
       "      <td>[ORG]</td>\n",
       "    </tr>\n",
       "    <tr>\n",
       "      <th>15566</th>\n",
       "      <td>bcbcb8900bc6588da940212d2ad9dec2</td>\n",
       "      <td>0DCNY0-E</td>\n",
       "      <td>0.0</td>\n",
       "      <td>34.0</td>\n",
       "      <td>NaN</td>\n",
       "      <td>0.0</td>\n",
       "      <td>2.890800e+06</td>\n",
       "      <td>9.079452</td>\n",
       "      <td>2.0</td>\n",
       "      <td>8.207372e+06</td>\n",
       "      <td>bcbcb8900bc6588da940212d2ad9dec2</td>\n",
       "      <td>[ORG]</td>\n",
       "    </tr>\n",
       "    <tr>\n",
       "      <th>19381</th>\n",
       "      <td>5a1fdb8065a5191bb70c923f9d838cf7</td>\n",
       "      <td>06SJ9W-E</td>\n",
       "      <td>0.0</td>\n",
       "      <td>38.0</td>\n",
       "      <td>NaN</td>\n",
       "      <td>0.0</td>\n",
       "      <td>1.715500e+06</td>\n",
       "      <td>38.071233</td>\n",
       "      <td>2.0</td>\n",
       "      <td>7.297426e+04</td>\n",
       "      <td>5a1fdb8065a5191bb70c923f9d838cf7</td>\n",
       "      <td>[ORG]</td>\n",
       "    </tr>\n",
       "    <tr>\n",
       "      <th>...</th>\n",
       "      <td>...</td>\n",
       "      <td>...</td>\n",
       "      <td>...</td>\n",
       "      <td>...</td>\n",
       "      <td>...</td>\n",
       "      <td>...</td>\n",
       "      <td>...</td>\n",
       "      <td>...</td>\n",
       "      <td>...</td>\n",
       "      <td>...</td>\n",
       "      <td>...</td>\n",
       "      <td>...</td>\n",
       "    </tr>\n",
       "    <tr>\n",
       "      <th>603737</th>\n",
       "      <td>cad25e153cd058ad15bf33448ec9f0fa</td>\n",
       "      <td>06F8FR-E</td>\n",
       "      <td>0.0</td>\n",
       "      <td>17.0</td>\n",
       "      <td>875.0</td>\n",
       "      <td>0.0</td>\n",
       "      <td>6.570000e+09</td>\n",
       "      <td>1.054795</td>\n",
       "      <td>2.0</td>\n",
       "      <td>6.314500e+09</td>\n",
       "      <td>cad25e153cd058ad15bf33448ec9f0fa</td>\n",
       "      <td>[ORG]</td>\n",
       "    </tr>\n",
       "    <tr>\n",
       "      <th>609284</th>\n",
       "      <td>80c43835017ad06e61c18b5e0e9e05a9</td>\n",
       "      <td>081XYT-E</td>\n",
       "      <td>0.0</td>\n",
       "      <td>13.0</td>\n",
       "      <td>NaN</td>\n",
       "      <td>0.0</td>\n",
       "      <td>9.494528e+06</td>\n",
       "      <td>13.287671</td>\n",
       "      <td>2.0</td>\n",
       "      <td>8.846663e+05</td>\n",
       "      <td>80c43835017ad06e61c18b5e0e9e05a9</td>\n",
       "      <td>[ORG]</td>\n",
       "    </tr>\n",
       "    <tr>\n",
       "      <th>611362</th>\n",
       "      <td>e00f6d84dc03cd8da711379e193ebe7c</td>\n",
       "      <td>0N5MHZ-E</td>\n",
       "      <td>0.0</td>\n",
       "      <td>3.0</td>\n",
       "      <td>NaN</td>\n",
       "      <td>0.0</td>\n",
       "      <td>3.650000e+08</td>\n",
       "      <td>1.534247</td>\n",
       "      <td>2.0</td>\n",
       "      <td>5.110000e+08</td>\n",
       "      <td>e00f6d84dc03cd8da711379e193ebe7c</td>\n",
       "      <td>[ORG]</td>\n",
       "    </tr>\n",
       "    <tr>\n",
       "      <th>613914</th>\n",
       "      <td>36331363a21a825e37fb559a125cd815</td>\n",
       "      <td>0GMRKZ-E</td>\n",
       "      <td>0.0</td>\n",
       "      <td>7.0</td>\n",
       "      <td>NaN</td>\n",
       "      <td>0.0</td>\n",
       "      <td>7.300000e+06</td>\n",
       "      <td>4.106849</td>\n",
       "      <td>2.0</td>\n",
       "      <td>1.538136e+06</td>\n",
       "      <td>36331363a21a825e37fb559a125cd815</td>\n",
       "      <td>[ORG]</td>\n",
       "    </tr>\n",
       "    <tr>\n",
       "      <th>639187</th>\n",
       "      <td>9487b86e77be6278394a45b1f0b826af</td>\n",
       "      <td>0088S2-E</td>\n",
       "      <td>0.0</td>\n",
       "      <td>45.0</td>\n",
       "      <td>NaN</td>\n",
       "      <td>0.0</td>\n",
       "      <td>9.125000e+08</td>\n",
       "      <td>2.567123</td>\n",
       "      <td>2.0</td>\n",
       "      <td>1.155833e+09</td>\n",
       "      <td>9487b86e77be6278394a45b1f0b826af</td>\n",
       "      <td>[ORG]</td>\n",
       "    </tr>\n",
       "  </tbody>\n",
       "</table>\n",
       "<p>75 rows × 12 columns</p>\n",
       "</div>"
      ],
      "text/plain": [
       "                               entity_id factset_entity_id  public  duration  \\\n",
       "5627    f89d46cbcf244e90725b89674bc64cd7          07GCYV-E     0.0      35.0   \n",
       "8012    ce04454598e2ce18b2b6fbce4ac82e05          0G5BZH-E     0.0      27.0   \n",
       "13201   14f360dc7a989f91f7a10fe0f054d38d          0HG9BF-E     1.0       5.0   \n",
       "15566   bcbcb8900bc6588da940212d2ad9dec2          0DCNY0-E     0.0      34.0   \n",
       "19381   5a1fdb8065a5191bb70c923f9d838cf7          06SJ9W-E     0.0      38.0   \n",
       "...                                  ...               ...     ...       ...   \n",
       "603737  cad25e153cd058ad15bf33448ec9f0fa          06F8FR-E     0.0      17.0   \n",
       "609284  80c43835017ad06e61c18b5e0e9e05a9          081XYT-E     0.0      13.0   \n",
       "611362  e00f6d84dc03cd8da711379e193ebe7c          0N5MHZ-E     0.0       3.0   \n",
       "613914  36331363a21a825e37fb559a125cd815          0GMRKZ-E     0.0       7.0   \n",
       "639187  9487b86e77be6278394a45b1f0b826af          0088S2-E     0.0      45.0   \n",
       "\n",
       "        num_members  avg_funding_interval  most_recent_money_q25_formatted  \\\n",
       "5627            NaN                   0.0                     1.460000e+08   \n",
       "8012            NaN                   0.0                     2.246215e+07   \n",
       "13201          89.0                   0.0                     9.855000e+08   \n",
       "15566           NaN                   0.0                     2.890800e+06   \n",
       "19381           NaN                   0.0                     1.715500e+06   \n",
       "...             ...                   ...                              ...   \n",
       "603737        875.0                   0.0                     6.570000e+09   \n",
       "609284          NaN                   0.0                     9.494528e+06   \n",
       "611362          NaN                   0.0                     3.650000e+08   \n",
       "613914          NaN                   0.0                     7.300000e+06   \n",
       "639187          NaN                   0.0                     9.125000e+08   \n",
       "\n",
       "        most_recent_time  rounds  money_q25_sum_weighted  \\\n",
       "5627            9.663014     2.0            3.285000e+07   \n",
       "8012            6.600000     2.0            5.466978e+06   \n",
       "13201           0.561644     2.0            1.022000e+09   \n",
       "15566           9.079452     2.0            8.207372e+06   \n",
       "19381          38.071233     2.0            7.297426e+04   \n",
       "...                  ...     ...                     ...   \n",
       "603737          1.054795     2.0            6.314500e+09   \n",
       "609284         13.287671     2.0            8.846663e+05   \n",
       "611362          1.534247     2.0            5.110000e+08   \n",
       "613914          4.106849     2.0            1.538136e+06   \n",
       "639187          2.567123     2.0            1.155833e+09   \n",
       "\n",
       "                             entity_id.1   type  \n",
       "5627    f89d46cbcf244e90725b89674bc64cd7  [ORG]  \n",
       "8012    ce04454598e2ce18b2b6fbce4ac82e05  [ORG]  \n",
       "13201   14f360dc7a989f91f7a10fe0f054d38d  [ORG]  \n",
       "15566   bcbcb8900bc6588da940212d2ad9dec2  [ORG]  \n",
       "19381   5a1fdb8065a5191bb70c923f9d838cf7  [ORG]  \n",
       "...                                  ...    ...  \n",
       "603737  cad25e153cd058ad15bf33448ec9f0fa  [ORG]  \n",
       "609284  80c43835017ad06e61c18b5e0e9e05a9  [ORG]  \n",
       "611362  e00f6d84dc03cd8da711379e193ebe7c  [ORG]  \n",
       "613914  36331363a21a825e37fb559a125cd815  [ORG]  \n",
       "639187  9487b86e77be6278394a45b1f0b826af  [ORG]  \n",
       "\n",
       "[75 rows x 12 columns]"
      ]
     },
     "execution_count": 35,
     "metadata": {},
     "output_type": "execute_result"
    }
   ],
   "source": [
    "non_patent.query('avg_funding_interval<=0')"
   ]
  },
  {
   "cell_type": "markdown",
   "id": "0403f3fb",
   "metadata": {},
   "source": [
    "##  most_recent_money_q25_formatted"
   ]
  },
  {
   "cell_type": "code",
   "execution_count": 15,
   "id": "e68daf38",
   "metadata": {},
   "outputs": [
    {
     "data": {
      "text/plain": [
       "<AxesSubplot:>"
      ]
     },
     "execution_count": 15,
     "metadata": {},
     "output_type": "execute_result"
    },
    {
     "data": {
      "image/png": "[encoded data removed]",
      "text/plain": [
       "<Figure size 432x288 with 1 Axes>"
      ]
     },
     "metadata": {
      "needs_background": "light"
     },
     "output_type": "display_data"
    }
   ],
   "source": [
    "non_patent['most_recent_money_q25_formatted'].hist()"
   ]
  },
  {
   "cell_type": "code",
   "execution_count": 23,
   "id": "f74b8590",
   "metadata": {},
   "outputs": [
    {
     "data": {
      "text/plain": [
       "<AxesSubplot:>"
      ]
     },
     "execution_count": 23,
     "metadata": {},
     "output_type": "execute_result"
    },
    {
     "data": {
      "image/png": "[encoded data removed]",
      "text/plain": [
       "<Figure size 432x288 with 1 Axes>"
      ]
     },
     "metadata": {
      "needs_background": "light"
     },
     "output_type": "display_data"
    }
   ],
   "source": [
    "non_patent[['most_recent_money_q25_formatted']].boxplot()"
   ]
  },
  {
   "cell_type": "code",
   "execution_count": 39,
   "id": "a0072a64",
   "metadata": {},
   "outputs": [],
   "source": [
    "alpha=1.5\n",
    "seg_25=non_patent[['most_recent_money_q25_formatted']].quantile(0.25)\n",
    "seg_75=non_patent[['most_recent_money_q25_formatted']].quantile(0.75)\n",
    "up_limit=seg_75+(seg_75-seg_25)*alpha\n",
    "low_limit=seg_25-(seg_75-seg_25)*alpha"
   ]
  },
  {
   "cell_type": "code",
   "execution_count": 40,
   "id": "e0c23a83",
   "metadata": {},
   "outputs": [
    {
     "data": {
      "text/plain": [
       "most_recent_money_q25_formatted    187007312.0\n",
       "dtype: float64"
      ]
     },
     "execution_count": 40,
     "metadata": {},
     "output_type": "execute_result"
    }
   ],
   "source": [
    "up_limit"
   ]
  },
  {
   "cell_type": "code",
   "execution_count": 41,
   "id": "2694e416",
   "metadata": {},
   "outputs": [
    {
     "data": {
      "text/plain": [
       "most_recent_money_q25_formatted   -100524387.2\n",
       "dtype: float64"
      ]
     },
     "execution_count": 41,
     "metadata": {},
     "output_type": "execute_result"
    }
   ],
   "source": [
    "low_limit"
   ]
  },
  {
   "cell_type": "code",
   "execution_count": 46,
   "id": "de24e1db",
   "metadata": {},
   "outputs": [
    {
     "data": {
      "text/html": [
       "<div>\n",
       "<style scoped>\n",
       "    .dataframe tbody tr th:only-of-type {\n",
       "        vertical-align: middle;\n",
       "    }\n",
       "\n",
       "    .dataframe tbody tr th {\n",
       "        vertical-align: top;\n",
       "    }\n",
       "\n",
       "    .dataframe thead th {\n",
       "        text-align: right;\n",
       "    }\n",
       "</style>\n",
       "<table border=\"1\" class=\"dataframe\">\n",
       "  <thead>\n",
       "    <tr style=\"text-align: right;\">\n",
       "      <th></th>\n",
       "      <th>entity_id</th>\n",
       "      <th>factset_entity_id</th>\n",
       "      <th>public</th>\n",
       "      <th>duration</th>\n",
       "      <th>num_members</th>\n",
       "      <th>avg_funding_interval</th>\n",
       "      <th>most_recent_money_q25_formatted</th>\n",
       "      <th>most_recent_time</th>\n",
       "      <th>rounds</th>\n",
       "      <th>money_q25_sum_weighted</th>\n",
       "      <th>entity_id.1</th>\n",
       "      <th>type</th>\n",
       "    </tr>\n",
       "  </thead>\n",
       "  <tbody>\n",
       "    <tr>\n",
       "      <th>485</th>\n",
       "      <td>8be53f6a721ce3e3e3d03a80b6a0feca</td>\n",
       "      <td>00FPFD-E</td>\n",
       "      <td>0.0</td>\n",
       "      <td>13.0</td>\n",
       "      <td>NaN</td>\n",
       "      <td>1.260274</td>\n",
       "      <td>1.971000e+08</td>\n",
       "      <td>0.386301</td>\n",
       "      <td>8.0</td>\n",
       "      <td>2.487893e+08</td>\n",
       "      <td>8be53f6a721ce3e3e3d03a80b6a0feca</td>\n",
       "      <td>[ORG]</td>\n",
       "    </tr>\n",
       "    <tr>\n",
       "      <th>523</th>\n",
       "      <td>d1c89eace218f2551cb70f89f395a049</td>\n",
       "      <td>0H5N1W-E</td>\n",
       "      <td>0.0</td>\n",
       "      <td>7.0</td>\n",
       "      <td>NaN</td>\n",
       "      <td>1.176027</td>\n",
       "      <td>5.494033e+08</td>\n",
       "      <td>0.441096</td>\n",
       "      <td>5.0</td>\n",
       "      <td>6.613884e+08</td>\n",
       "      <td>d1c89eace218f2551cb70f89f395a049</td>\n",
       "      <td>[ORG]</td>\n",
       "    </tr>\n",
       "    <tr>\n",
       "      <th>677</th>\n",
       "      <td>f88e2c611967481c8881f01672423297</td>\n",
       "      <td>0HCYKG-E</td>\n",
       "      <td>0.0</td>\n",
       "      <td>7.0</td>\n",
       "      <td>NaN</td>\n",
       "      <td>0.390868</td>\n",
       "      <td>2.101869e+08</td>\n",
       "      <td>4.005479</td>\n",
       "      <td>4.0</td>\n",
       "      <td>6.290564e+07</td>\n",
       "      <td>f88e2c611967481c8881f01672423297</td>\n",
       "      <td>[ORG]</td>\n",
       "    </tr>\n",
       "    <tr>\n",
       "      <th>742</th>\n",
       "      <td>53f5a34bd7b9e632d3d6ac9bcdfdecfb</td>\n",
       "      <td>05LLXX-E</td>\n",
       "      <td>0.0</td>\n",
       "      <td>39.0</td>\n",
       "      <td>NaN</td>\n",
       "      <td>4.304110</td>\n",
       "      <td>2.051300e+08</td>\n",
       "      <td>13.153425</td>\n",
       "      <td>2.0</td>\n",
       "      <td>1.911325e+07</td>\n",
       "      <td>53f5a34bd7b9e632d3d6ac9bcdfdecfb</td>\n",
       "      <td>[ORG]</td>\n",
       "    </tr>\n",
       "    <tr>\n",
       "      <th>1112</th>\n",
       "      <td>7112be4fca291a460297719fdf63edde</td>\n",
       "      <td>0FMP67-E</td>\n",
       "      <td>0.0</td>\n",
       "      <td>7.0</td>\n",
       "      <td>NaN</td>\n",
       "      <td>0.717808</td>\n",
       "      <td>3.839800e+08</td>\n",
       "      <td>0.073973</td>\n",
       "      <td>11.0</td>\n",
       "      <td>1.394989e+09</td>\n",
       "      <td>7112be4fca291a460297719fdf63edde</td>\n",
       "      <td>[ORG]</td>\n",
       "    </tr>\n",
       "    <tr>\n",
       "      <th>...</th>\n",
       "      <td>...</td>\n",
       "      <td>...</td>\n",
       "      <td>...</td>\n",
       "      <td>...</td>\n",
       "      <td>...</td>\n",
       "      <td>...</td>\n",
       "      <td>...</td>\n",
       "      <td>...</td>\n",
       "      <td>...</td>\n",
       "      <td>...</td>\n",
       "      <td>...</td>\n",
       "      <td>...</td>\n",
       "    </tr>\n",
       "    <tr>\n",
       "      <th>643520</th>\n",
       "      <td>649ca6a439f05ffacbd4a7d6d56d1746</td>\n",
       "      <td>00CBVY-E</td>\n",
       "      <td>0.0</td>\n",
       "      <td>13.0</td>\n",
       "      <td>NaN</td>\n",
       "      <td>1.471233</td>\n",
       "      <td>2.920000e+08</td>\n",
       "      <td>2.424658</td>\n",
       "      <td>8.0</td>\n",
       "      <td>2.284980e+08</td>\n",
       "      <td>649ca6a439f05ffacbd4a7d6d56d1746</td>\n",
       "      <td>[ORG]</td>\n",
       "    </tr>\n",
       "    <tr>\n",
       "      <th>643615</th>\n",
       "      <td>334e1ab06befa96561da7fce93b6b03c</td>\n",
       "      <td>09S0MM-E</td>\n",
       "      <td>1.0</td>\n",
       "      <td>15.0</td>\n",
       "      <td>221.0</td>\n",
       "      <td>1.513894</td>\n",
       "      <td>1.460000e+09</td>\n",
       "      <td>2.079452</td>\n",
       "      <td>8.0</td>\n",
       "      <td>8.160813e+08</td>\n",
       "      <td>334e1ab06befa96561da7fce93b6b03c</td>\n",
       "      <td>[ORG]</td>\n",
       "    </tr>\n",
       "    <tr>\n",
       "      <th>643636</th>\n",
       "      <td>084193eea365c151827963c9c6167aae</td>\n",
       "      <td>076MSN-E</td>\n",
       "      <td>0.0</td>\n",
       "      <td>15.0</td>\n",
       "      <td>NaN</td>\n",
       "      <td>1.557686</td>\n",
       "      <td>3.650000e+08</td>\n",
       "      <td>0.901370</td>\n",
       "      <td>10.0</td>\n",
       "      <td>5.342157e+08</td>\n",
       "      <td>084193eea365c151827963c9c6167aae</td>\n",
       "      <td>[ORG]</td>\n",
       "    </tr>\n",
       "    <tr>\n",
       "      <th>643641</th>\n",
       "      <td>f6a07318f03d0f3e5e71a387ef7bb8a3</td>\n",
       "      <td>003M9Q-E</td>\n",
       "      <td>0.0</td>\n",
       "      <td>43.0</td>\n",
       "      <td>19.0</td>\n",
       "      <td>NaN</td>\n",
       "      <td>2.087800e+08</td>\n",
       "      <td>7.230137</td>\n",
       "      <td>1.0</td>\n",
       "      <td>2.609750e+07</td>\n",
       "      <td>f6a07318f03d0f3e5e71a387ef7bb8a3</td>\n",
       "      <td>[ORG]</td>\n",
       "    </tr>\n",
       "    <tr>\n",
       "      <th>643816</th>\n",
       "      <td>c7e71f0e5fbc0b8c702574047e709e06</td>\n",
       "      <td>05JYQC-E</td>\n",
       "      <td>1.0</td>\n",
       "      <td>22.0</td>\n",
       "      <td>102.0</td>\n",
       "      <td>2.139726</td>\n",
       "      <td>3.777750e+08</td>\n",
       "      <td>2.895890</td>\n",
       "      <td>5.0</td>\n",
       "      <td>2.595666e+08</td>\n",
       "      <td>c7e71f0e5fbc0b8c702574047e709e06</td>\n",
       "      <td>[ORG]</td>\n",
       "    </tr>\n",
       "  </tbody>\n",
       "</table>\n",
       "<p>5139 rows × 12 columns</p>\n",
       "</div>"
      ],
      "text/plain": [
       "                               entity_id factset_entity_id  public  duration  \\\n",
       "485     8be53f6a721ce3e3e3d03a80b6a0feca          00FPFD-E     0.0      13.0   \n",
       "523     d1c89eace218f2551cb70f89f395a049          0H5N1W-E     0.0       7.0   \n",
       "677     f88e2c611967481c8881f01672423297          0HCYKG-E     0.0       7.0   \n",
       "742     53f5a34bd7b9e632d3d6ac9bcdfdecfb          05LLXX-E     0.0      39.0   \n",
       "1112    7112be4fca291a460297719fdf63edde          0FMP67-E     0.0       7.0   \n",
       "...                                  ...               ...     ...       ...   \n",
       "643520  649ca6a439f05ffacbd4a7d6d56d1746          00CBVY-E     0.0      13.0   \n",
       "643615  334e1ab06befa96561da7fce93b6b03c          09S0MM-E     1.0      15.0   \n",
       "643636  084193eea365c151827963c9c6167aae          076MSN-E     0.0      15.0   \n",
       "643641  f6a07318f03d0f3e5e71a387ef7bb8a3          003M9Q-E     0.0      43.0   \n",
       "643816  c7e71f0e5fbc0b8c702574047e709e06          05JYQC-E     1.0      22.0   \n",
       "\n",
       "        num_members  avg_funding_interval  most_recent_money_q25_formatted  \\\n",
       "485             NaN              1.260274                     1.971000e+08   \n",
       "523             NaN              1.176027                     5.494033e+08   \n",
       "677             NaN              0.390868                     2.101869e+08   \n",
       "742             NaN              4.304110                     2.051300e+08   \n",
       "1112            NaN              0.717808                     3.839800e+08   \n",
       "...             ...                   ...                              ...   \n",
       "643520          NaN              1.471233                     2.920000e+08   \n",
       "643615        221.0              1.513894                     1.460000e+09   \n",
       "643636          NaN              1.557686                     3.650000e+08   \n",
       "643641         19.0                   NaN                     2.087800e+08   \n",
       "643816        102.0              2.139726                     3.777750e+08   \n",
       "\n",
       "        most_recent_time  rounds  money_q25_sum_weighted  \\\n",
       "485             0.386301     8.0            2.487893e+08   \n",
       "523             0.441096     5.0            6.613884e+08   \n",
       "677             4.005479     4.0            6.290564e+07   \n",
       "742            13.153425     2.0            1.911325e+07   \n",
       "1112            0.073973    11.0            1.394989e+09   \n",
       "...                  ...     ...                     ...   \n",
       "643520          2.424658     8.0            2.284980e+08   \n",
       "643615          2.079452     8.0            8.160813e+08   \n",
       "643636          0.901370    10.0            5.342157e+08   \n",
       "643641          7.230137     1.0            2.609750e+07   \n",
       "643816          2.895890     5.0            2.595666e+08   \n",
       "\n",
       "                             entity_id.1   type  \n",
       "485     8be53f6a721ce3e3e3d03a80b6a0feca  [ORG]  \n",
       "523     d1c89eace218f2551cb70f89f395a049  [ORG]  \n",
       "677     f88e2c611967481c8881f01672423297  [ORG]  \n",
       "742     53f5a34bd7b9e632d3d6ac9bcdfdecfb  [ORG]  \n",
       "1112    7112be4fca291a460297719fdf63edde  [ORG]  \n",
       "...                                  ...    ...  \n",
       "643520  649ca6a439f05ffacbd4a7d6d56d1746  [ORG]  \n",
       "643615  334e1ab06befa96561da7fce93b6b03c  [ORG]  \n",
       "643636  084193eea365c151827963c9c6167aae  [ORG]  \n",
       "643641  f6a07318f03d0f3e5e71a387ef7bb8a3  [ORG]  \n",
       "643816  c7e71f0e5fbc0b8c702574047e709e06  [ORG]  \n",
       "\n",
       "[5139 rows x 12 columns]"
      ]
     },
     "execution_count": 46,
     "metadata": {},
     "output_type": "execute_result"
    }
   ],
   "source": [
    "non_patent.query('most_recent_money_q25_formatted>187007312.0')"
   ]
  },
  {
   "cell_type": "markdown",
   "id": "2417ac90",
   "metadata": {},
   "source": [
    "## most_recent_time"
   ]
  },
  {
   "cell_type": "code",
   "execution_count": 16,
   "id": "568acb29",
   "metadata": {},
   "outputs": [
    {
     "data": {
      "text/plain": [
       "<AxesSubplot:>"
      ]
     },
     "execution_count": 16,
     "metadata": {},
     "output_type": "execute_result"
    },
    {
     "data": {
      "image/png": "[encoded data removed]",
      "text/plain": [
       "<Figure size 432x288 with 1 Axes>"
      ]
     },
     "metadata": {
      "needs_background": "light"
     },
     "output_type": "display_data"
    }
   ],
   "source": [
    "non_patent['most_recent_time'].hist()"
   ]
  },
  {
   "cell_type": "code",
   "execution_count": 47,
   "id": "fb19c744",
   "metadata": {},
   "outputs": [
    {
     "data": {
      "text/plain": [
       "<AxesSubplot:>"
      ]
     },
     "execution_count": 47,
     "metadata": {},
     "output_type": "execute_result"
    },
    {
     "data": {
      "image/png": "[encoded data removed]",
      "text/plain": [
       "<Figure size 432x288 with 1 Axes>"
      ]
     },
     "metadata": {
      "needs_background": "light"
     },
     "output_type": "display_data"
    }
   ],
   "source": [
    "non_patent[['most_recent_time']].boxplot()"
   ]
  },
  {
   "cell_type": "code",
   "execution_count": 51,
   "id": "43fb26cd",
   "metadata": {},
   "outputs": [],
   "source": [
    "alpha=1.5\n",
    "seg_25=non_patent[['most_recent_time']].quantile(0.25)\n",
    "seg_75=non_patent[['most_recent_time']].quantile(0.75)\n",
    "up_limit=seg_75+(seg_75-seg_25)*alpha\n",
    "low_limit=seg_25-(seg_75-seg_25)*alpha"
   ]
  },
  {
   "cell_type": "code",
   "execution_count": 52,
   "id": "8f35d463",
   "metadata": {},
   "outputs": [
    {
     "data": {
      "text/plain": [
       "most_recent_time    21.939726\n",
       "dtype: float64"
      ]
     },
     "execution_count": 52,
     "metadata": {},
     "output_type": "execute_result"
    }
   ],
   "source": [
    "up_limit"
   ]
  },
  {
   "cell_type": "code",
   "execution_count": 53,
   "id": "fc7e4758",
   "metadata": {},
   "outputs": [
    {
     "data": {
      "text/plain": [
       "most_recent_time   -8.986301\n",
       "dtype: float64"
      ]
     },
     "execution_count": 53,
     "metadata": {},
     "output_type": "execute_result"
    }
   ],
   "source": [
    "low_limit"
   ]
  },
  {
   "cell_type": "code",
   "execution_count": 55,
   "id": "6030e17e",
   "metadata": {},
   "outputs": [
    {
     "data": {
      "text/html": [
       "<div>\n",
       "<style scoped>\n",
       "    .dataframe tbody tr th:only-of-type {\n",
       "        vertical-align: middle;\n",
       "    }\n",
       "\n",
       "    .dataframe tbody tr th {\n",
       "        vertical-align: top;\n",
       "    }\n",
       "\n",
       "    .dataframe thead th {\n",
       "        text-align: right;\n",
       "    }\n",
       "</style>\n",
       "<table border=\"1\" class=\"dataframe\">\n",
       "  <thead>\n",
       "    <tr style=\"text-align: right;\">\n",
       "      <th></th>\n",
       "      <th>entity_id</th>\n",
       "      <th>factset_entity_id</th>\n",
       "      <th>public</th>\n",
       "      <th>duration</th>\n",
       "      <th>num_members</th>\n",
       "      <th>avg_funding_interval</th>\n",
       "      <th>most_recent_money_q25_formatted</th>\n",
       "      <th>most_recent_time</th>\n",
       "      <th>rounds</th>\n",
       "      <th>money_q25_sum_weighted</th>\n",
       "      <th>entity_id.1</th>\n",
       "      <th>type</th>\n",
       "    </tr>\n",
       "  </thead>\n",
       "  <tbody>\n",
       "    <tr>\n",
       "      <th>105</th>\n",
       "      <td>c98f899e77eec29cdace0117deb33d18</td>\n",
       "      <td>05X91F-E</td>\n",
       "      <td>0.0</td>\n",
       "      <td>73.0</td>\n",
       "      <td>NaN</td>\n",
       "      <td>NaN</td>\n",
       "      <td>79182924.8</td>\n",
       "      <td>23.558904</td>\n",
       "      <td>1.0</td>\n",
       "      <td>3.299289e+06</td>\n",
       "      <td>c98f899e77eec29cdace0117deb33d18</td>\n",
       "      <td>[ORG]</td>\n",
       "    </tr>\n",
       "    <tr>\n",
       "      <th>827</th>\n",
       "      <td>4230ce5c59c067598d85703f32c0b69f</td>\n",
       "      <td>05R4Q7-E</td>\n",
       "      <td>0.0</td>\n",
       "      <td>25.0</td>\n",
       "      <td>NaN</td>\n",
       "      <td>NaN</td>\n",
       "      <td>36500000.0</td>\n",
       "      <td>22.435616</td>\n",
       "      <td>1.0</td>\n",
       "      <td>1.586957e+06</td>\n",
       "      <td>4230ce5c59c067598d85703f32c0b69f</td>\n",
       "      <td>[ORG]</td>\n",
       "    </tr>\n",
       "    <tr>\n",
       "      <th>1554</th>\n",
       "      <td>1d3784ac6aaa91a08e172363ce6fd93c</td>\n",
       "      <td>05LVKB-E</td>\n",
       "      <td>0.0</td>\n",
       "      <td>110.0</td>\n",
       "      <td>NaN</td>\n",
       "      <td>NaN</td>\n",
       "      <td>79182924.8</td>\n",
       "      <td>25.958904</td>\n",
       "      <td>1.0</td>\n",
       "      <td>3.045497e+06</td>\n",
       "      <td>1d3784ac6aaa91a08e172363ce6fd93c</td>\n",
       "      <td>[ORG]</td>\n",
       "    </tr>\n",
       "    <tr>\n",
       "      <th>2142</th>\n",
       "      <td>4fc43505895959559132f19177f8c344</td>\n",
       "      <td>05NTJQ-E</td>\n",
       "      <td>0.0</td>\n",
       "      <td>27.0</td>\n",
       "      <td>NaN</td>\n",
       "      <td>1.194521</td>\n",
       "      <td>93440000.0</td>\n",
       "      <td>23.460274</td>\n",
       "      <td>3.0</td>\n",
       "      <td>8.095550e+06</td>\n",
       "      <td>4fc43505895959559132f19177f8c344</td>\n",
       "      <td>[ORG]</td>\n",
       "    </tr>\n",
       "    <tr>\n",
       "      <th>2947</th>\n",
       "      <td>33da809679d07fbf08f23baaea09f5af</td>\n",
       "      <td>0013SQ-E</td>\n",
       "      <td>0.0</td>\n",
       "      <td>29.0</td>\n",
       "      <td>44.0</td>\n",
       "      <td>NaN</td>\n",
       "      <td>58400000.0</td>\n",
       "      <td>27.479452</td>\n",
       "      <td>1.0</td>\n",
       "      <td>2.085714e+06</td>\n",
       "      <td>33da809679d07fbf08f23baaea09f5af</td>\n",
       "      <td>[ORG]</td>\n",
       "    </tr>\n",
       "    <tr>\n",
       "      <th>...</th>\n",
       "      <td>...</td>\n",
       "      <td>...</td>\n",
       "      <td>...</td>\n",
       "      <td>...</td>\n",
       "      <td>...</td>\n",
       "      <td>...</td>\n",
       "      <td>...</td>\n",
       "      <td>...</td>\n",
       "      <td>...</td>\n",
       "      <td>...</td>\n",
       "      <td>...</td>\n",
       "      <td>...</td>\n",
       "    </tr>\n",
       "    <tr>\n",
       "      <th>642110</th>\n",
       "      <td>46857aaa37d5ac80a697ff08ba902d18</td>\n",
       "      <td>064JG9-E</td>\n",
       "      <td>0.0</td>\n",
       "      <td>23.0</td>\n",
       "      <td>NaN</td>\n",
       "      <td>NaN</td>\n",
       "      <td>160600000.0</td>\n",
       "      <td>22.578082</td>\n",
       "      <td>1.0</td>\n",
       "      <td>6.982609e+06</td>\n",
       "      <td>46857aaa37d5ac80a697ff08ba902d18</td>\n",
       "      <td>[ORG]</td>\n",
       "    </tr>\n",
       "    <tr>\n",
       "      <th>642385</th>\n",
       "      <td>b4be8d98c4243a4c72c41c460b53c90e</td>\n",
       "      <td>000X47-E</td>\n",
       "      <td>0.0</td>\n",
       "      <td>28.0</td>\n",
       "      <td>71.0</td>\n",
       "      <td>NaN</td>\n",
       "      <td>36500000.0</td>\n",
       "      <td>22.802740</td>\n",
       "      <td>1.0</td>\n",
       "      <td>1.586957e+06</td>\n",
       "      <td>b4be8d98c4243a4c72c41c460b53c90e</td>\n",
       "      <td>[ORG]</td>\n",
       "    </tr>\n",
       "    <tr>\n",
       "      <th>642464</th>\n",
       "      <td>04af985e1d59ac450f2fa77ee688a6e2</td>\n",
       "      <td>083F1T-E</td>\n",
       "      <td>0.0</td>\n",
       "      <td>95.0</td>\n",
       "      <td>NaN</td>\n",
       "      <td>NaN</td>\n",
       "      <td>79182924.8</td>\n",
       "      <td>22.873973</td>\n",
       "      <td>1.0</td>\n",
       "      <td>3.442736e+06</td>\n",
       "      <td>04af985e1d59ac450f2fa77ee688a6e2</td>\n",
       "      <td>[ORG]</td>\n",
       "    </tr>\n",
       "    <tr>\n",
       "      <th>642724</th>\n",
       "      <td>9d6efa51eb025a11696ab1f46f5d6e9d</td>\n",
       "      <td>05SGHF-E</td>\n",
       "      <td>0.0</td>\n",
       "      <td>37.0</td>\n",
       "      <td>NaN</td>\n",
       "      <td>NaN</td>\n",
       "      <td>73000000.0</td>\n",
       "      <td>22.227397</td>\n",
       "      <td>1.0</td>\n",
       "      <td>3.173913e+06</td>\n",
       "      <td>9d6efa51eb025a11696ab1f46f5d6e9d</td>\n",
       "      <td>[ORG]</td>\n",
       "    </tr>\n",
       "    <tr>\n",
       "      <th>643352</th>\n",
       "      <td>e8c56378932b98811193a467a0b16165</td>\n",
       "      <td>081GHT-E</td>\n",
       "      <td>0.0</td>\n",
       "      <td>NaN</td>\n",
       "      <td>NaN</td>\n",
       "      <td>NaN</td>\n",
       "      <td>11680000.0</td>\n",
       "      <td>22.131507</td>\n",
       "      <td>1.0</td>\n",
       "      <td>5.078261e+05</td>\n",
       "      <td>e8c56378932b98811193a467a0b16165</td>\n",
       "      <td>[ORG]</td>\n",
       "    </tr>\n",
       "  </tbody>\n",
       "</table>\n",
       "<p>946 rows × 12 columns</p>\n",
       "</div>"
      ],
      "text/plain": [
       "                               entity_id factset_entity_id  public  duration  \\\n",
       "105     c98f899e77eec29cdace0117deb33d18          05X91F-E     0.0      73.0   \n",
       "827     4230ce5c59c067598d85703f32c0b69f          05R4Q7-E     0.0      25.0   \n",
       "1554    1d3784ac6aaa91a08e172363ce6fd93c          05LVKB-E     0.0     110.0   \n",
       "2142    4fc43505895959559132f19177f8c344          05NTJQ-E     0.0      27.0   \n",
       "2947    33da809679d07fbf08f23baaea09f5af          0013SQ-E     0.0      29.0   \n",
       "...                                  ...               ...     ...       ...   \n",
       "642110  46857aaa37d5ac80a697ff08ba902d18          064JG9-E     0.0      23.0   \n",
       "642385  b4be8d98c4243a4c72c41c460b53c90e          000X47-E     0.0      28.0   \n",
       "642464  04af985e1d59ac450f2fa77ee688a6e2          083F1T-E     0.0      95.0   \n",
       "642724  9d6efa51eb025a11696ab1f46f5d6e9d          05SGHF-E     0.0      37.0   \n",
       "643352  e8c56378932b98811193a467a0b16165          081GHT-E     0.0       NaN   \n",
       "\n",
       "        num_members  avg_funding_interval  most_recent_money_q25_formatted  \\\n",
       "105             NaN                   NaN                       79182924.8   \n",
       "827             NaN                   NaN                       36500000.0   \n",
       "1554            NaN                   NaN                       79182924.8   \n",
       "2142            NaN              1.194521                       93440000.0   \n",
       "2947           44.0                   NaN                       58400000.0   \n",
       "...             ...                   ...                              ...   \n",
       "642110          NaN                   NaN                      160600000.0   \n",
       "642385         71.0                   NaN                       36500000.0   \n",
       "642464          NaN                   NaN                       79182924.8   \n",
       "642724          NaN                   NaN                       73000000.0   \n",
       "643352          NaN                   NaN                       11680000.0   \n",
       "\n",
       "        most_recent_time  rounds  money_q25_sum_weighted  \\\n",
       "105            23.558904     1.0            3.299289e+06   \n",
       "827            22.435616     1.0            1.586957e+06   \n",
       "1554           25.958904     1.0            3.045497e+06   \n",
       "2142           23.460274     3.0            8.095550e+06   \n",
       "2947           27.479452     1.0            2.085714e+06   \n",
       "...                  ...     ...                     ...   \n",
       "642110         22.578082     1.0            6.982609e+06   \n",
       "642385         22.802740     1.0            1.586957e+06   \n",
       "642464         22.873973     1.0            3.442736e+06   \n",
       "642724         22.227397     1.0            3.173913e+06   \n",
       "643352         22.131507     1.0            5.078261e+05   \n",
       "\n",
       "                             entity_id.1   type  \n",
       "105     c98f899e77eec29cdace0117deb33d18  [ORG]  \n",
       "827     4230ce5c59c067598d85703f32c0b69f  [ORG]  \n",
       "1554    1d3784ac6aaa91a08e172363ce6fd93c  [ORG]  \n",
       "2142    4fc43505895959559132f19177f8c344  [ORG]  \n",
       "2947    33da809679d07fbf08f23baaea09f5af  [ORG]  \n",
       "...                                  ...    ...  \n",
       "642110  46857aaa37d5ac80a697ff08ba902d18  [ORG]  \n",
       "642385  b4be8d98c4243a4c72c41c460b53c90e  [ORG]  \n",
       "642464  04af985e1d59ac450f2fa77ee688a6e2  [ORG]  \n",
       "642724  9d6efa51eb025a11696ab1f46f5d6e9d  [ORG]  \n",
       "643352  e8c56378932b98811193a467a0b16165  [ORG]  \n",
       "\n",
       "[946 rows x 12 columns]"
      ]
     },
     "execution_count": 55,
     "metadata": {},
     "output_type": "execute_result"
    }
   ],
   "source": [
    "non_patent.query('most_recent_time>21.939726')"
   ]
  },
  {
   "cell_type": "markdown",
   "id": "f7311219",
   "metadata": {},
   "source": [
    "##  rounds"
   ]
  },
  {
   "cell_type": "code",
   "execution_count": 17,
   "id": "06cfab3d",
   "metadata": {},
   "outputs": [
    {
     "data": {
      "text/plain": [
       "<AxesSubplot:>"
      ]
     },
     "execution_count": 17,
     "metadata": {},
     "output_type": "execute_result"
    },
    {
     "data": {
      "image/png": "[encoded data removed]",
      "text/plain": [
       "<Figure size 432x288 with 1 Axes>"
      ]
     },
     "metadata": {
      "needs_background": "light"
     },
     "output_type": "display_data"
    }
   ],
   "source": [
    "non_patent['rounds'].hist()"
   ]
  },
  {
   "cell_type": "code",
   "execution_count": 56,
   "id": "89f6fec9",
   "metadata": {},
   "outputs": [
    {
     "data": {
      "text/plain": [
       "<AxesSubplot:>"
      ]
     },
     "execution_count": 56,
     "metadata": {},
     "output_type": "execute_result"
    },
    {
     "data": {
      "image/png": "[encoded data removed]",
      "text/plain": [
       "<Figure size 432x288 with 1 Axes>"
      ]
     },
     "metadata": {
      "needs_background": "light"
     },
     "output_type": "display_data"
    }
   ],
   "source": [
    "non_patent[['rounds']].boxplot()"
   ]
  },
  {
   "cell_type": "code",
   "execution_count": 57,
   "id": "d592416c",
   "metadata": {},
   "outputs": [],
   "source": [
    "alpha=1.5\n",
    "seg_25=non_patent[['rounds']].quantile(0.25)\n",
    "seg_75=non_patent[['rounds']].quantile(0.75)\n",
    "up_limit=seg_75+(seg_75-seg_25)*alpha\n",
    "low_limit=seg_25-(seg_75-seg_25)*alpha"
   ]
  },
  {
   "cell_type": "code",
   "execution_count": 59,
   "id": "eb540e9a",
   "metadata": {},
   "outputs": [
    {
     "data": {
      "text/plain": [
       "rounds    8.5\n",
       "dtype: float64"
      ]
     },
     "execution_count": 59,
     "metadata": {},
     "output_type": "execute_result"
    }
   ],
   "source": [
    "up_limit"
   ]
  },
  {
   "cell_type": "code",
   "execution_count": 60,
   "id": "e6a2175d",
   "metadata": {},
   "outputs": [
    {
     "data": {
      "text/plain": [
       "rounds   -3.5\n",
       "dtype: float64"
      ]
     },
     "execution_count": 60,
     "metadata": {},
     "output_type": "execute_result"
    }
   ],
   "source": [
    "low_limit"
   ]
  },
  {
   "cell_type": "code",
   "execution_count": 65,
   "id": "4020de1e",
   "metadata": {
    "scrolled": true
   },
   "outputs": [
    {
     "data": {
      "text/html": [
       "<div>\n",
       "<style scoped>\n",
       "    .dataframe tbody tr th:only-of-type {\n",
       "        vertical-align: middle;\n",
       "    }\n",
       "\n",
       "    .dataframe tbody tr th {\n",
       "        vertical-align: top;\n",
       "    }\n",
       "\n",
       "    .dataframe thead th {\n",
       "        text-align: right;\n",
       "    }\n",
       "</style>\n",
       "<table border=\"1\" class=\"dataframe\">\n",
       "  <thead>\n",
       "    <tr style=\"text-align: right;\">\n",
       "      <th></th>\n",
       "      <th>entity_id</th>\n",
       "      <th>factset_entity_id</th>\n",
       "      <th>public</th>\n",
       "      <th>duration</th>\n",
       "      <th>num_members</th>\n",
       "      <th>avg_funding_interval</th>\n",
       "      <th>most_recent_money_q25_formatted</th>\n",
       "      <th>most_recent_time</th>\n",
       "      <th>rounds</th>\n",
       "      <th>money_q25_sum_weighted</th>\n",
       "      <th>entity_id.1</th>\n",
       "      <th>type</th>\n",
       "    </tr>\n",
       "  </thead>\n",
       "  <tbody>\n",
       "    <tr>\n",
       "      <th>606673</th>\n",
       "      <td>4c9db6674d172223ab3c596c4325f0d7</td>\n",
       "      <td>0JRWPY-E</td>\n",
       "      <td>0.0</td>\n",
       "      <td>15.0</td>\n",
       "      <td>NaN</td>\n",
       "      <td>0.254468</td>\n",
       "      <td>2.920000e+05</td>\n",
       "      <td>5.180822</td>\n",
       "      <td>43.0</td>\n",
       "      <td>8.667334e+06</td>\n",
       "      <td>4c9db6674d172223ab3c596c4325f0d7</td>\n",
       "      <td>[ORG]</td>\n",
       "    </tr>\n",
       "    <tr>\n",
       "      <th>191484</th>\n",
       "      <td>e63817289510528a85c69666eeaa3f38</td>\n",
       "      <td>006XY7-E</td>\n",
       "      <td>1.0</td>\n",
       "      <td>19.0</td>\n",
       "      <td>99290.0</td>\n",
       "      <td>0.505479</td>\n",
       "      <td>1.460000e+08</td>\n",
       "      <td>0.364384</td>\n",
       "      <td>37.0</td>\n",
       "      <td>2.713089e+10</td>\n",
       "      <td>e63817289510528a85c69666eeaa3f38</td>\n",
       "      <td>[ORG]</td>\n",
       "    </tr>\n",
       "    <tr>\n",
       "      <th>220524</th>\n",
       "      <td>b89b5ccee633515d646bcd2366e531e6</td>\n",
       "      <td>0C5NBC-E</td>\n",
       "      <td>0.0</td>\n",
       "      <td>12.0</td>\n",
       "      <td>NaN</td>\n",
       "      <td>0.378943</td>\n",
       "      <td>1.130496e+06</td>\n",
       "      <td>0.252055</td>\n",
       "      <td>36.0</td>\n",
       "      <td>4.633818e+06</td>\n",
       "      <td>b89b5ccee633515d646bcd2366e531e6</td>\n",
       "      <td>[ORG]</td>\n",
       "    </tr>\n",
       "    <tr>\n",
       "      <th>452191</th>\n",
       "      <td>bc5a3c922fd0a9b7935b281071aa8f1c</td>\n",
       "      <td>002M71-E</td>\n",
       "      <td>1.0</td>\n",
       "      <td>25.0</td>\n",
       "      <td>2449.0</td>\n",
       "      <td>0.695326</td>\n",
       "      <td>1.460000e+10</td>\n",
       "      <td>1.750685</td>\n",
       "      <td>35.0</td>\n",
       "      <td>1.751226e+10</td>\n",
       "      <td>bc5a3c922fd0a9b7935b281071aa8f1c</td>\n",
       "      <td>[ORG]</td>\n",
       "    </tr>\n",
       "    <tr>\n",
       "      <th>99579</th>\n",
       "      <td>1a0f90c6078be57588293d779f9470d8</td>\n",
       "      <td>0DNFQ3-E</td>\n",
       "      <td>0.0</td>\n",
       "      <td>10.0</td>\n",
       "      <td>NaN</td>\n",
       "      <td>0.270403</td>\n",
       "      <td>2.920000e+10</td>\n",
       "      <td>0.939726</td>\n",
       "      <td>34.0</td>\n",
       "      <td>5.205463e+10</td>\n",
       "      <td>1a0f90c6078be57588293d779f9470d8</td>\n",
       "      <td>[ORG]</td>\n",
       "    </tr>\n",
       "    <tr>\n",
       "      <th>...</th>\n",
       "      <td>...</td>\n",
       "      <td>...</td>\n",
       "      <td>...</td>\n",
       "      <td>...</td>\n",
       "      <td>...</td>\n",
       "      <td>...</td>\n",
       "      <td>...</td>\n",
       "      <td>...</td>\n",
       "      <td>...</td>\n",
       "      <td>...</td>\n",
       "      <td>...</td>\n",
       "      <td>...</td>\n",
       "    </tr>\n",
       "    <tr>\n",
       "      <th>407430</th>\n",
       "      <td>d040787abcc226ad565e453d154abe9c</td>\n",
       "      <td>0DXF0X-E</td>\n",
       "      <td>0.0</td>\n",
       "      <td>8.0</td>\n",
       "      <td>NaN</td>\n",
       "      <td>0.962671</td>\n",
       "      <td>2.058600e+09</td>\n",
       "      <td>0.747945</td>\n",
       "      <td>9.0</td>\n",
       "      <td>2.563380e+09</td>\n",
       "      <td>d040787abcc226ad565e453d154abe9c</td>\n",
       "      <td>[ORG]</td>\n",
       "    </tr>\n",
       "    <tr>\n",
       "      <th>409459</th>\n",
       "      <td>c250b91b2360b50df53f1f034010e90d</td>\n",
       "      <td>0CSM5L-E</td>\n",
       "      <td>0.0</td>\n",
       "      <td>12.0</td>\n",
       "      <td>NaN</td>\n",
       "      <td>0.968493</td>\n",
       "      <td>5.811917e+06</td>\n",
       "      <td>2.156164</td>\n",
       "      <td>9.0</td>\n",
       "      <td>1.770398e+08</td>\n",
       "      <td>c250b91b2360b50df53f1f034010e90d</td>\n",
       "      <td>[ORG]</td>\n",
       "    </tr>\n",
       "    <tr>\n",
       "      <th>409604</th>\n",
       "      <td>6072e5f715cc7ed8ccd63e2ac357faca</td>\n",
       "      <td>0DQCP7-E</td>\n",
       "      <td>0.0</td>\n",
       "      <td>10.0</td>\n",
       "      <td>NaN</td>\n",
       "      <td>0.741438</td>\n",
       "      <td>1.636762e+07</td>\n",
       "      <td>5.934247</td>\n",
       "      <td>9.0</td>\n",
       "      <td>1.969326e+07</td>\n",
       "      <td>6072e5f715cc7ed8ccd63e2ac357faca</td>\n",
       "      <td>[ORG]</td>\n",
       "    </tr>\n",
       "    <tr>\n",
       "      <th>96773</th>\n",
       "      <td>83a27818f25151c0e0e7e59ce26f9655</td>\n",
       "      <td>00G1GR-E</td>\n",
       "      <td>0.0</td>\n",
       "      <td>14.0</td>\n",
       "      <td>NaN</td>\n",
       "      <td>0.557877</td>\n",
       "      <td>9.494528e+06</td>\n",
       "      <td>4.208219</td>\n",
       "      <td>9.0</td>\n",
       "      <td>2.494773e+07</td>\n",
       "      <td>83a27818f25151c0e0e7e59ce26f9655</td>\n",
       "      <td>[ORG]</td>\n",
       "    </tr>\n",
       "    <tr>\n",
       "      <th>644</th>\n",
       "      <td>c04358fb75446177b9378d5407485f52</td>\n",
       "      <td>0GRD2T-E</td>\n",
       "      <td>0.0</td>\n",
       "      <td>8.0</td>\n",
       "      <td>NaN</td>\n",
       "      <td>0.884932</td>\n",
       "      <td>3.832500e+07</td>\n",
       "      <td>0.769863</td>\n",
       "      <td>9.0</td>\n",
       "      <td>5.459139e+07</td>\n",
       "      <td>c04358fb75446177b9378d5407485f52</td>\n",
       "      <td>[ORG]</td>\n",
       "    </tr>\n",
       "  </tbody>\n",
       "</table>\n",
       "<p>1723 rows × 12 columns</p>\n",
       "</div>"
      ],
      "text/plain": [
       "                               entity_id factset_entity_id  public  duration  \\\n",
       "606673  4c9db6674d172223ab3c596c4325f0d7          0JRWPY-E     0.0      15.0   \n",
       "191484  e63817289510528a85c69666eeaa3f38          006XY7-E     1.0      19.0   \n",
       "220524  b89b5ccee633515d646bcd2366e531e6          0C5NBC-E     0.0      12.0   \n",
       "452191  bc5a3c922fd0a9b7935b281071aa8f1c          002M71-E     1.0      25.0   \n",
       "99579   1a0f90c6078be57588293d779f9470d8          0DNFQ3-E     0.0      10.0   \n",
       "...                                  ...               ...     ...       ...   \n",
       "407430  d040787abcc226ad565e453d154abe9c          0DXF0X-E     0.0       8.0   \n",
       "409459  c250b91b2360b50df53f1f034010e90d          0CSM5L-E     0.0      12.0   \n",
       "409604  6072e5f715cc7ed8ccd63e2ac357faca          0DQCP7-E     0.0      10.0   \n",
       "96773   83a27818f25151c0e0e7e59ce26f9655          00G1GR-E     0.0      14.0   \n",
       "644     c04358fb75446177b9378d5407485f52          0GRD2T-E     0.0       8.0   \n",
       "\n",
       "        num_members  avg_funding_interval  most_recent_money_q25_formatted  \\\n",
       "606673          NaN              0.254468                     2.920000e+05   \n",
       "191484      99290.0              0.505479                     1.460000e+08   \n",
       "220524          NaN              0.378943                     1.130496e+06   \n",
       "452191       2449.0              0.695326                     1.460000e+10   \n",
       "99579           NaN              0.270403                     2.920000e+10   \n",
       "...             ...                   ...                              ...   \n",
       "407430          NaN              0.962671                     2.058600e+09   \n",
       "409459          NaN              0.968493                     5.811917e+06   \n",
       "409604          NaN              0.741438                     1.636762e+07   \n",
       "96773           NaN              0.557877                     9.494528e+06   \n",
       "644             NaN              0.884932                     3.832500e+07   \n",
       "\n",
       "        most_recent_time  rounds  money_q25_sum_weighted  \\\n",
       "606673          5.180822    43.0            8.667334e+06   \n",
       "191484          0.364384    37.0            2.713089e+10   \n",
       "220524          0.252055    36.0            4.633818e+06   \n",
       "452191          1.750685    35.0            1.751226e+10   \n",
       "99579           0.939726    34.0            5.205463e+10   \n",
       "...                  ...     ...                     ...   \n",
       "407430          0.747945     9.0            2.563380e+09   \n",
       "409459          2.156164     9.0            1.770398e+08   \n",
       "409604          5.934247     9.0            1.969326e+07   \n",
       "96773           4.208219     9.0            2.494773e+07   \n",
       "644             0.769863     9.0            5.459139e+07   \n",
       "\n",
       "                             entity_id.1   type  \n",
       "606673  4c9db6674d172223ab3c596c4325f0d7  [ORG]  \n",
       "191484  e63817289510528a85c69666eeaa3f38  [ORG]  \n",
       "220524  b89b5ccee633515d646bcd2366e531e6  [ORG]  \n",
       "452191  bc5a3c922fd0a9b7935b281071aa8f1c  [ORG]  \n",
       "99579   1a0f90c6078be57588293d779f9470d8  [ORG]  \n",
       "...                                  ...    ...  \n",
       "407430  d040787abcc226ad565e453d154abe9c  [ORG]  \n",
       "409459  c250b91b2360b50df53f1f034010e90d  [ORG]  \n",
       "409604  6072e5f715cc7ed8ccd63e2ac357faca  [ORG]  \n",
       "96773   83a27818f25151c0e0e7e59ce26f9655  [ORG]  \n",
       "644     c04358fb75446177b9378d5407485f52  [ORG]  \n",
       "\n",
       "[1723 rows x 12 columns]"
      ]
     },
     "execution_count": 65,
     "metadata": {},
     "output_type": "execute_result"
    }
   ],
   "source": [
    "non_patent.query('rounds>8.5').sort_values('rounds',ascending=False)"
   ]
  },
  {
   "cell_type": "code",
   "execution_count": 63,
   "id": "3f8805f0",
   "metadata": {},
   "outputs": [
    {
     "data": {
      "text/html": [
       "<div>\n",
       "<style scoped>\n",
       "    .dataframe tbody tr th:only-of-type {\n",
       "        vertical-align: middle;\n",
       "    }\n",
       "\n",
       "    .dataframe tbody tr th {\n",
       "        vertical-align: top;\n",
       "    }\n",
       "\n",
       "    .dataframe thead th {\n",
       "        text-align: right;\n",
       "    }\n",
       "</style>\n",
       "<table border=\"1\" class=\"dataframe\">\n",
       "  <thead>\n",
       "    <tr style=\"text-align: right;\">\n",
       "      <th></th>\n",
       "      <th>entity_id</th>\n",
       "      <th>factset_entity_id</th>\n",
       "      <th>public</th>\n",
       "      <th>duration</th>\n",
       "      <th>num_members</th>\n",
       "      <th>avg_funding_interval</th>\n",
       "      <th>most_recent_money_q25_formatted</th>\n",
       "      <th>most_recent_time</th>\n",
       "      <th>rounds</th>\n",
       "      <th>money_q25_sum_weighted</th>\n",
       "      <th>entity_id.1</th>\n",
       "      <th>type</th>\n",
       "    </tr>\n",
       "  </thead>\n",
       "  <tbody>\n",
       "  </tbody>\n",
       "</table>\n",
       "</div>"
      ],
      "text/plain": [
       "Empty DataFrame\n",
       "Columns: [entity_id, factset_entity_id, public, duration, num_members, avg_funding_interval, most_recent_money_q25_formatted, most_recent_time, rounds, money_q25_sum_weighted, entity_id.1, type]\n",
       "Index: []"
      ]
     },
     "execution_count": 63,
     "metadata": {},
     "output_type": "execute_result"
    }
   ],
   "source": [
    "non_patent.query('rounds<0')"
   ]
  },
  {
   "cell_type": "markdown",
   "id": "a26a5279",
   "metadata": {},
   "source": [
    "##  money_q25_sum_weighted"
   ]
  },
  {
   "cell_type": "code",
   "execution_count": 18,
   "id": "a74122e9",
   "metadata": {},
   "outputs": [
    {
     "data": {
      "text/plain": [
       "<AxesSubplot:>"
      ]
     },
     "execution_count": 18,
     "metadata": {},
     "output_type": "execute_result"
    },
    {
     "data": {
      "image/png": "[encoded data removed]",
      "text/plain": [
       "<Figure size 432x288 with 1 Axes>"
      ]
     },
     "metadata": {
      "needs_background": "light"
     },
     "output_type": "display_data"
    }
   ],
   "source": [
    "non_patent['money_q25_sum_weighted'].hist()"
   ]
  },
  {
   "cell_type": "code",
   "execution_count": 66,
   "id": "c379f7a2",
   "metadata": {},
   "outputs": [
    {
     "data": {
      "text/plain": [
       "<AxesSubplot:>"
      ]
     },
     "execution_count": 66,
     "metadata": {},
     "output_type": "execute_result"
    },
    {
     "data": {
      "image/png": "[encoded data removed]",
      "text/plain": [
       "<Figure size 432x288 with 1 Axes>"
      ]
     },
     "metadata": {
      "needs_background": "light"
     },
     "output_type": "display_data"
    }
   ],
   "source": [
    "non_patent[['money_q25_sum_weighted']].boxplot()"
   ]
  },
  {
   "cell_type": "code",
   "execution_count": 68,
   "id": "49abf687",
   "metadata": {},
   "outputs": [],
   "source": [
    "alpha=1.5\n",
    "seg_25=non_patent[['money_q25_sum_weighted']].quantile(0.25)\n",
    "seg_75=non_patent[['money_q25_sum_weighted']].quantile(0.75)\n",
    "up_limit=seg_75+(seg_75-seg_25)*alpha\n",
    "low_limit=seg_25-(seg_75-seg_25)*alpha"
   ]
  },
  {
   "cell_type": "code",
   "execution_count": 70,
   "id": "932bd41d",
   "metadata": {},
   "outputs": [
    {
     "data": {
      "text/plain": [
       "money_q25_sum_weighted    8.700520e+07\n",
       "dtype: float64"
      ]
     },
     "execution_count": 70,
     "metadata": {},
     "output_type": "execute_result"
    }
   ],
   "source": [
    "up_limit"
   ]
  },
  {
   "cell_type": "code",
   "execution_count": 71,
   "id": "7a850aaf",
   "metadata": {},
   "outputs": [
    {
     "data": {
      "text/plain": [
       "money_q25_sum_weighted   -4.967125e+07\n",
       "dtype: float64"
      ]
     },
     "execution_count": 71,
     "metadata": {},
     "output_type": "execute_result"
    }
   ],
   "source": [
    "low_limit"
   ]
  },
  {
   "cell_type": "code",
   "execution_count": 75,
   "id": "60c32c71",
   "metadata": {},
   "outputs": [
    {
     "data": {
      "text/html": [
       "<div>\n",
       "<style scoped>\n",
       "    .dataframe tbody tr th:only-of-type {\n",
       "        vertical-align: middle;\n",
       "    }\n",
       "\n",
       "    .dataframe tbody tr th {\n",
       "        vertical-align: top;\n",
       "    }\n",
       "\n",
       "    .dataframe thead th {\n",
       "        text-align: right;\n",
       "    }\n",
       "</style>\n",
       "<table border=\"1\" class=\"dataframe\">\n",
       "  <thead>\n",
       "    <tr style=\"text-align: right;\">\n",
       "      <th></th>\n",
       "      <th>entity_id</th>\n",
       "      <th>factset_entity_id</th>\n",
       "      <th>public</th>\n",
       "      <th>duration</th>\n",
       "      <th>num_members</th>\n",
       "      <th>avg_funding_interval</th>\n",
       "      <th>most_recent_money_q25_formatted</th>\n",
       "      <th>most_recent_time</th>\n",
       "      <th>rounds</th>\n",
       "      <th>money_q25_sum_weighted</th>\n",
       "      <th>entity_id.1</th>\n",
       "      <th>type</th>\n",
       "    </tr>\n",
       "  </thead>\n",
       "  <tbody>\n",
       "    <tr>\n",
       "      <th>229695</th>\n",
       "      <td>178bdb93096a92f2b10d13b6e3901908</td>\n",
       "      <td>05HWBM-E</td>\n",
       "      <td>1.0</td>\n",
       "      <td>33.0</td>\n",
       "      <td>477600.0</td>\n",
       "      <td>1.369863</td>\n",
       "      <td>9.490000e+10</td>\n",
       "      <td>2.882192</td>\n",
       "      <td>3.0</td>\n",
       "      <td>3.395262e+10</td>\n",
       "      <td>178bdb93096a92f2b10d13b6e3901908</td>\n",
       "      <td>[ORG]</td>\n",
       "    </tr>\n",
       "    <tr>\n",
       "      <th>302102</th>\n",
       "      <td>abc649b2bdb1ac0fab9d3a2d28eb83a3</td>\n",
       "      <td>063NJS-E</td>\n",
       "      <td>0.0</td>\n",
       "      <td>51.0</td>\n",
       "      <td>NaN</td>\n",
       "      <td>0.664384</td>\n",
       "      <td>7.300000e+10</td>\n",
       "      <td>2.383562</td>\n",
       "      <td>3.0</td>\n",
       "      <td>5.110000e+10</td>\n",
       "      <td>abc649b2bdb1ac0fab9d3a2d28eb83a3</td>\n",
       "      <td>[ORG]</td>\n",
       "    </tr>\n",
       "    <tr>\n",
       "      <th>71995</th>\n",
       "      <td>57fc95408a4aec4e44d2413e495d4f66</td>\n",
       "      <td>0077YX-E</td>\n",
       "      <td>1.0</td>\n",
       "      <td>18.0</td>\n",
       "      <td>71970.0</td>\n",
       "      <td>1.120890</td>\n",
       "      <td>7.300000e+10</td>\n",
       "      <td>0.268493</td>\n",
       "      <td>17.0</td>\n",
       "      <td>8.552232e+10</td>\n",
       "      <td>57fc95408a4aec4e44d2413e495d4f66</td>\n",
       "      <td>[ORG]</td>\n",
       "    </tr>\n",
       "    <tr>\n",
       "      <th>619807</th>\n",
       "      <td>3df06a3b9a9cacd80fee5216fc658df8</td>\n",
       "      <td>07RRQ3-E</td>\n",
       "      <td>1.0</td>\n",
       "      <td>24.0</td>\n",
       "      <td>112771.0</td>\n",
       "      <td>4.283836</td>\n",
       "      <td>4.380000e+10</td>\n",
       "      <td>2.452055</td>\n",
       "      <td>6.0</td>\n",
       "      <td>2.653800e+10</td>\n",
       "      <td>3df06a3b9a9cacd80fee5216fc658df8</td>\n",
       "      <td>[ORG]</td>\n",
       "    </tr>\n",
       "    <tr>\n",
       "      <th>303178</th>\n",
       "      <td>e4c859109c6761d1d71c9c9a8d753244</td>\n",
       "      <td>00156C-E</td>\n",
       "      <td>1.0</td>\n",
       "      <td>42.0</td>\n",
       "      <td>14500.0</td>\n",
       "      <td>4.668493</td>\n",
       "      <td>3.832500e+10</td>\n",
       "      <td>0.997260</td>\n",
       "      <td>2.0</td>\n",
       "      <td>3.954167e+10</td>\n",
       "      <td>e4c859109c6761d1d71c9c9a8d753244</td>\n",
       "      <td>[ORG]</td>\n",
       "    </tr>\n",
       "    <tr>\n",
       "      <th>...</th>\n",
       "      <td>...</td>\n",
       "      <td>...</td>\n",
       "      <td>...</td>\n",
       "      <td>...</td>\n",
       "      <td>...</td>\n",
       "      <td>...</td>\n",
       "      <td>...</td>\n",
       "      <td>...</td>\n",
       "      <td>...</td>\n",
       "      <td>...</td>\n",
       "      <td>...</td>\n",
       "      <td>...</td>\n",
       "    </tr>\n",
       "    <tr>\n",
       "      <th>121739</th>\n",
       "      <td>85b6bca890b577b3c82e382eafa8ccde</td>\n",
       "      <td>05F5B3-E</td>\n",
       "      <td>0.0</td>\n",
       "      <td>167.0</td>\n",
       "      <td>NaN</td>\n",
       "      <td>1.630137</td>\n",
       "      <td>1.825000e+05</td>\n",
       "      <td>0.372603</td>\n",
       "      <td>6.0</td>\n",
       "      <td>2.156542e+08</td>\n",
       "      <td>85b6bca890b577b3c82e382eafa8ccde</td>\n",
       "      <td>[ORG]</td>\n",
       "    </tr>\n",
       "    <tr>\n",
       "      <th>8091</th>\n",
       "      <td>ba39fe20ae9b49cbcb66a9e768a1686e</td>\n",
       "      <td>0624YC-E</td>\n",
       "      <td>0.0</td>\n",
       "      <td>180.0</td>\n",
       "      <td>NaN</td>\n",
       "      <td>1.867123</td>\n",
       "      <td>1.825000e+05</td>\n",
       "      <td>0.369863</td>\n",
       "      <td>3.0</td>\n",
       "      <td>1.031125e+08</td>\n",
       "      <td>ba39fe20ae9b49cbcb66a9e768a1686e</td>\n",
       "      <td>[ORG]</td>\n",
       "    </tr>\n",
       "    <tr>\n",
       "      <th>21785</th>\n",
       "      <td>d49b04e6c0f52f8c0c719744cdf4d01c</td>\n",
       "      <td>0GRD4H-E</td>\n",
       "      <td>0.0</td>\n",
       "      <td>6.0</td>\n",
       "      <td>NaN</td>\n",
       "      <td>0.496438</td>\n",
       "      <td>1.752000e+05</td>\n",
       "      <td>0.942466</td>\n",
       "      <td>11.0</td>\n",
       "      <td>1.046876e+08</td>\n",
       "      <td>d49b04e6c0f52f8c0c719744cdf4d01c</td>\n",
       "      <td>[ORG]</td>\n",
       "    </tr>\n",
       "    <tr>\n",
       "      <th>532304</th>\n",
       "      <td>0b51f00642ec9ac1f1d3e99d9aaafdf3</td>\n",
       "      <td>0HRTVL-E</td>\n",
       "      <td>0.0</td>\n",
       "      <td>7.0</td>\n",
       "      <td>NaN</td>\n",
       "      <td>0.732420</td>\n",
       "      <td>1.654983e+05</td>\n",
       "      <td>0.136986</td>\n",
       "      <td>7.0</td>\n",
       "      <td>5.055000e+08</td>\n",
       "      <td>0b51f00642ec9ac1f1d3e99d9aaafdf3</td>\n",
       "      <td>[ORG]</td>\n",
       "    </tr>\n",
       "    <tr>\n",
       "      <th>592009</th>\n",
       "      <td>83794b6fddb712a86d11d8044117500a</td>\n",
       "      <td>0JKDYY-E</td>\n",
       "      <td>0.0</td>\n",
       "      <td>5.0</td>\n",
       "      <td>NaN</td>\n",
       "      <td>0.423288</td>\n",
       "      <td>1.007400e+05</td>\n",
       "      <td>1.227397</td>\n",
       "      <td>9.0</td>\n",
       "      <td>1.169079e+09</td>\n",
       "      <td>83794b6fddb712a86d11d8044117500a</td>\n",
       "      <td>[ORG]</td>\n",
       "    </tr>\n",
       "  </tbody>\n",
       "</table>\n",
       "<p>5814 rows × 12 columns</p>\n",
       "</div>"
      ],
      "text/plain": [
       "                               entity_id factset_entity_id  public  duration  \\\n",
       "229695  178bdb93096a92f2b10d13b6e3901908          05HWBM-E     1.0      33.0   \n",
       "302102  abc649b2bdb1ac0fab9d3a2d28eb83a3          063NJS-E     0.0      51.0   \n",
       "71995   57fc95408a4aec4e44d2413e495d4f66          0077YX-E     1.0      18.0   \n",
       "619807  3df06a3b9a9cacd80fee5216fc658df8          07RRQ3-E     1.0      24.0   \n",
       "303178  e4c859109c6761d1d71c9c9a8d753244          00156C-E     1.0      42.0   \n",
       "...                                  ...               ...     ...       ...   \n",
       "121739  85b6bca890b577b3c82e382eafa8ccde          05F5B3-E     0.0     167.0   \n",
       "8091    ba39fe20ae9b49cbcb66a9e768a1686e          0624YC-E     0.0     180.0   \n",
       "21785   d49b04e6c0f52f8c0c719744cdf4d01c          0GRD4H-E     0.0       6.0   \n",
       "532304  0b51f00642ec9ac1f1d3e99d9aaafdf3          0HRTVL-E     0.0       7.0   \n",
       "592009  83794b6fddb712a86d11d8044117500a          0JKDYY-E     0.0       5.0   \n",
       "\n",
       "        num_members  avg_funding_interval  most_recent_money_q25_formatted  \\\n",
       "229695     477600.0              1.369863                     9.490000e+10   \n",
       "302102          NaN              0.664384                     7.300000e+10   \n",
       "71995       71970.0              1.120890                     7.300000e+10   \n",
       "619807     112771.0              4.283836                     4.380000e+10   \n",
       "303178      14500.0              4.668493                     3.832500e+10   \n",
       "...             ...                   ...                              ...   \n",
       "121739          NaN              1.630137                     1.825000e+05   \n",
       "8091            NaN              1.867123                     1.825000e+05   \n",
       "21785           NaN              0.496438                     1.752000e+05   \n",
       "532304          NaN              0.732420                     1.654983e+05   \n",
       "592009          NaN              0.423288                     1.007400e+05   \n",
       "\n",
       "        most_recent_time  rounds  money_q25_sum_weighted  \\\n",
       "229695          2.882192     3.0            3.395262e+10   \n",
       "302102          2.383562     3.0            5.110000e+10   \n",
       "71995           0.268493    17.0            8.552232e+10   \n",
       "619807          2.452055     6.0            2.653800e+10   \n",
       "303178          0.997260     2.0            3.954167e+10   \n",
       "...                  ...     ...                     ...   \n",
       "121739          0.372603     6.0            2.156542e+08   \n",
       "8091            0.369863     3.0            1.031125e+08   \n",
       "21785           0.942466    11.0            1.046876e+08   \n",
       "532304          0.136986     7.0            5.055000e+08   \n",
       "592009          1.227397     9.0            1.169079e+09   \n",
       "\n",
       "                             entity_id.1   type  \n",
       "229695  178bdb93096a92f2b10d13b6e3901908  [ORG]  \n",
       "302102  abc649b2bdb1ac0fab9d3a2d28eb83a3  [ORG]  \n",
       "71995   57fc95408a4aec4e44d2413e495d4f66  [ORG]  \n",
       "619807  3df06a3b9a9cacd80fee5216fc658df8  [ORG]  \n",
       "303178  e4c859109c6761d1d71c9c9a8d753244  [ORG]  \n",
       "...                                  ...    ...  \n",
       "121739  85b6bca890b577b3c82e382eafa8ccde  [ORG]  \n",
       "8091    ba39fe20ae9b49cbcb66a9e768a1686e  [ORG]  \n",
       "21785   d49b04e6c0f52f8c0c719744cdf4d01c  [ORG]  \n",
       "532304  0b51f00642ec9ac1f1d3e99d9aaafdf3  [ORG]  \n",
       "592009  83794b6fddb712a86d11d8044117500a  [ORG]  \n",
       "\n",
       "[5814 rows x 12 columns]"
      ]
     },
     "execution_count": 75,
     "metadata": {},
     "output_type": "execute_result"
    }
   ],
   "source": [
    "non_patent.query('money_q25_sum_weighted> 8.700520e+07').sort_values('most_recent_money_q25_formatted',ascending=False)"
   ]
  },
  {
   "cell_type": "code",
   "execution_count": 74,
   "id": "5ce1645f",
   "metadata": {},
   "outputs": [
    {
     "data": {
      "text/html": [
       "<div>\n",
       "<style scoped>\n",
       "    .dataframe tbody tr th:only-of-type {\n",
       "        vertical-align: middle;\n",
       "    }\n",
       "\n",
       "    .dataframe tbody tr th {\n",
       "        vertical-align: top;\n",
       "    }\n",
       "\n",
       "    .dataframe thead th {\n",
       "        text-align: right;\n",
       "    }\n",
       "</style>\n",
       "<table border=\"1\" class=\"dataframe\">\n",
       "  <thead>\n",
       "    <tr style=\"text-align: right;\">\n",
       "      <th></th>\n",
       "      <th>entity_id</th>\n",
       "      <th>factset_entity_id</th>\n",
       "      <th>public</th>\n",
       "      <th>duration</th>\n",
       "      <th>num_members</th>\n",
       "      <th>avg_funding_interval</th>\n",
       "      <th>most_recent_money_q25_formatted</th>\n",
       "      <th>most_recent_time</th>\n",
       "      <th>rounds</th>\n",
       "      <th>money_q25_sum_weighted</th>\n",
       "      <th>entity_id.1</th>\n",
       "      <th>type</th>\n",
       "    </tr>\n",
       "  </thead>\n",
       "  <tbody>\n",
       "  </tbody>\n",
       "</table>\n",
       "</div>"
      ],
      "text/plain": [
       "Empty DataFrame\n",
       "Columns: [entity_id, factset_entity_id, public, duration, num_members, avg_funding_interval, most_recent_money_q25_formatted, most_recent_time, rounds, money_q25_sum_weighted, entity_id.1, type]\n",
       "Index: []"
      ]
     },
     "execution_count": 74,
     "metadata": {},
     "output_type": "execute_result"
    }
   ],
   "source": [
    "non_patent.query('money_q25_sum_weighted<0').sort_values('rounds',ascending=False)"
   ]
  }
 ],
 "metadata": {
  "kernelspec": {
   "display_name": "Python 3 (ipykernel)",
   "language": "python",
   "name": "python3"
  },
  "language_info": {
   "codemirror_mode": {
    "name": "ipython",
    "version": 3
   },
   "file_extension": ".py",
   "mimetype": "text/x-python",
   "name": "python",
   "nbconvert_exporter": "python",
   "pygments_lexer": "ipython3",
   "version": "3.7.11"
  },
  "toc": {
   "base_numbering": 1,
   "nav_menu": {},
   "number_sections": true,
   "sideBar": true,
   "skip_h1_title": false,
   "title_cell": "Table of Contents",
   "title_sidebar": "Contents",
   "toc_cell": false,
   "toc_position": {},
   "toc_section_display": true,
   "toc_window_display": true
  }
 },
 "nbformat": 4,
 "nbformat_minor": 5
}
