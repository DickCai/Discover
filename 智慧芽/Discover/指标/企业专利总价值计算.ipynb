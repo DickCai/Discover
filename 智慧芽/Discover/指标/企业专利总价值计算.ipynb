{
 "cells": [
  {
   "cell_type": "code",
   "execution_count": 9,
   "metadata": {},
   "outputs": [],
   "source": [
    "import pandas as pd\n",
    "import numpy as np"
   ]
  },
  {
   "cell_type": "code",
   "execution_count": 36,
   "metadata": {},
   "outputs": [],
   "source": [
    "#file = 'D:/Work/PV/company/sample.csv'\n",
    "file = '/Users/caicaiqijun/智慧牙/智慧芽/Discover/指标/企查查企业专利价值.csv'"
   ]
  },
  {
   "cell_type": "code",
   "execution_count": 37,
   "metadata": {},
   "outputs": [],
   "source": [
    "with open(file, 'r', encoding='utf8') as fin:\n",
    "    data = pd.read_csv(file)"
   ]
  },
  {
   "cell_type": "code",
   "execution_count": 38,
   "metadata": {},
   "outputs": [
    {
     "data": {
      "text/html": [
       "<div>\n",
       "<style scoped>\n",
       "    .dataframe tbody tr th:only-of-type {\n",
       "        vertical-align: middle;\n",
       "    }\n",
       "\n",
       "    .dataframe tbody tr th {\n",
       "        vertical-align: top;\n",
       "    }\n",
       "\n",
       "    .dataframe thead th {\n",
       "        text-align: right;\n",
       "    }\n",
       "</style>\n",
       "<table border=\"1\" class=\"dataframe\">\n",
       "  <thead>\n",
       "    <tr style=\"text-align: right;\">\n",
       "      <th></th>\n",
       "      <th>family_original</th>\n",
       "      <th>apno</th>\n",
       "      <th>vo_list</th>\n",
       "      <th>vu_list</th>\n",
       "      <th>ans_list</th>\n",
       "    </tr>\n",
       "  </thead>\n",
       "  <tbody>\n",
       "    <tr>\n",
       "      <th>0</th>\n",
       "      <td>181019427</td>\n",
       "      <td>CN202111654465.5</td>\n",
       "      <td>[4500]</td>\n",
       "      <td>[2600]</td>\n",
       "      <td>[6c576d44-fe6b-11ec-92b3-aa02190e6163]</td>\n",
       "    </tr>\n",
       "    <tr>\n",
       "      <th>1</th>\n",
       "      <td>178386349</td>\n",
       "      <td>CN202110948029.2</td>\n",
       "      <td>[4500]</td>\n",
       "      <td>[2500]</td>\n",
       "      <td>[6c576d44-fe6b-11ec-92b3-aa02190e6163]</td>\n",
       "    </tr>\n",
       "    <tr>\n",
       "      <th>2</th>\n",
       "      <td>177819113</td>\n",
       "      <td>CN202111000470.4</td>\n",
       "      <td>[4600]</td>\n",
       "      <td>[2700]</td>\n",
       "      <td>[6c576d44-fe6b-11ec-92b3-aa02190e6163]</td>\n",
       "    </tr>\n",
       "    <tr>\n",
       "      <th>3</th>\n",
       "      <td>172186014</td>\n",
       "      <td>CN202010436308.6</td>\n",
       "      <td>[4700]</td>\n",
       "      <td>[2800]</td>\n",
       "      <td>[6c576d44-fe6b-11ec-92b3-aa02190e6163]</td>\n",
       "    </tr>\n",
       "    <tr>\n",
       "      <th>4</th>\n",
       "      <td>161055685</td>\n",
       "      <td>CN201710765288.5</td>\n",
       "      <td>[55200]</td>\n",
       "      <td>[43700]</td>\n",
       "      <td>[6c576d44-fe6b-11ec-92b3-aa02190e6163]</td>\n",
       "    </tr>\n",
       "    <tr>\n",
       "      <th>...</th>\n",
       "      <td>...</td>\n",
       "      <td>...</td>\n",
       "      <td>...</td>\n",
       "      <td>...</td>\n",
       "      <td>...</td>\n",
       "    </tr>\n",
       "    <tr>\n",
       "      <th>84</th>\n",
       "      <td>180299842</td>\n",
       "      <td>CN202111332010.1</td>\n",
       "      <td>[4500]</td>\n",
       "      <td>[2600]</td>\n",
       "      <td>[6c576d44-fe6b-11ec-92b3-aa02190e6163]</td>\n",
       "    </tr>\n",
       "    <tr>\n",
       "      <th>85</th>\n",
       "      <td>170035052</td>\n",
       "      <td>CN201911314620.1</td>\n",
       "      <td>[4400]</td>\n",
       "      <td>[2500]</td>\n",
       "      <td>[6c576d44-fe6b-11ec-92b3-aa02190e6163]</td>\n",
       "    </tr>\n",
       "    <tr>\n",
       "      <th>86</th>\n",
       "      <td>180753173</td>\n",
       "      <td>CN202111473479.7</td>\n",
       "      <td>[4400]</td>\n",
       "      <td>[2500]</td>\n",
       "      <td>[6c576d44-fe6b-11ec-92b3-aa02190e6163]</td>\n",
       "    </tr>\n",
       "    <tr>\n",
       "      <th>87</th>\n",
       "      <td>168663389</td>\n",
       "      <td>CN201910753636.6</td>\n",
       "      <td>[72000]</td>\n",
       "      <td>[62200]</td>\n",
       "      <td>[6c576d44-fe6b-11ec-92b3-aa02190e6163]</td>\n",
       "    </tr>\n",
       "    <tr>\n",
       "      <th>88</th>\n",
       "      <td>173798718</td>\n",
       "      <td>CN202011036803.4</td>\n",
       "      <td>[4500]</td>\n",
       "      <td>[2600]</td>\n",
       "      <td>[6c576d44-fe6b-11ec-92b3-aa02190e6163]</td>\n",
       "    </tr>\n",
       "  </tbody>\n",
       "</table>\n",
       "<p>89 rows × 5 columns</p>\n",
       "</div>"
      ],
      "text/plain": [
       "    family_original              apno  vo_list  vu_list  \\\n",
       "0         181019427  CN202111654465.5   [4500]   [2600]   \n",
       "1         178386349  CN202110948029.2   [4500]   [2500]   \n",
       "2         177819113  CN202111000470.4   [4600]   [2700]   \n",
       "3         172186014  CN202010436308.6   [4700]   [2800]   \n",
       "4         161055685  CN201710765288.5  [55200]  [43700]   \n",
       "..              ...               ...      ...      ...   \n",
       "84        180299842  CN202111332010.1   [4500]   [2600]   \n",
       "85        170035052  CN201911314620.1   [4400]   [2500]   \n",
       "86        180753173  CN202111473479.7   [4400]   [2500]   \n",
       "87        168663389  CN201910753636.6  [72000]  [62200]   \n",
       "88        173798718  CN202011036803.4   [4500]   [2600]   \n",
       "\n",
       "                                  ans_list  \n",
       "0   [6c576d44-fe6b-11ec-92b3-aa02190e6163]  \n",
       "1   [6c576d44-fe6b-11ec-92b3-aa02190e6163]  \n",
       "2   [6c576d44-fe6b-11ec-92b3-aa02190e6163]  \n",
       "3   [6c576d44-fe6b-11ec-92b3-aa02190e6163]  \n",
       "4   [6c576d44-fe6b-11ec-92b3-aa02190e6163]  \n",
       "..                                     ...  \n",
       "84  [6c576d44-fe6b-11ec-92b3-aa02190e6163]  \n",
       "85  [6c576d44-fe6b-11ec-92b3-aa02190e6163]  \n",
       "86  [6c576d44-fe6b-11ec-92b3-aa02190e6163]  \n",
       "87  [6c576d44-fe6b-11ec-92b3-aa02190e6163]  \n",
       "88  [6c576d44-fe6b-11ec-92b3-aa02190e6163]  \n",
       "\n",
       "[89 rows x 5 columns]"
      ]
     },
     "execution_count": 38,
     "metadata": {},
     "output_type": "execute_result"
    }
   ],
   "source": [
    "data"
   ]
  },
  {
   "cell_type": "code",
   "execution_count": 39,
   "metadata": {
    "code_folding": []
   },
   "outputs": [],
   "source": [
    "def str_to_list(ss):\n",
    "    return ss.replace('[', '').replace(']', '').replace(' ', '').split(',')"
   ]
  },
  {
   "cell_type": "code",
   "execution_count": 40,
   "metadata": {
    "code_folding": []
   },
   "outputs": [],
   "source": [
    "def count_pv_format(vo, vu):\n",
    "    pv = (int(vo)+int(vu))/2\n",
    "    if pv > 100000:\n",
    "        pv = int(pv/10000)*10000\n",
    "    elif pv > 10000:\n",
    "        pv = int(pv/1000)*1000\n",
    "    elif pv > 1000:\n",
    "        pv = int(pv/100)*100\n",
    "    return pv"
   ]
  },
  {
   "cell_type": "code",
   "execution_count": 41,
   "metadata": {
    "code_folding": []
   },
   "outputs": [],
   "source": [
    "fam_info = {}\n",
    "apno_info = {}\n",
    "ans_info = {}\n",
    "for fid,apno,vo_str,vu_str,ans_str in data.values:\n",
    "    if fid not in fam_info:\n",
    "        fam_info[fid] = {'count_apno': 0, 'pv': 0}\n",
    "    fam_info[fid]['count_apno'] += 1\n",
    "    \n",
    "    vo = str_to_list(vo_str)[0]\n",
    "    vu = str_to_list(vu_str)[0]\n",
    "    pv = count_pv_format(vo, vu)\n",
    "    \n",
    "    if fam_info[fid]['pv'] == 0:\n",
    "        fam_info[fid]['pv'] = pv\n",
    "        \n",
    "    apno_info[apno] = {'fid': fid, 'ans_count': len(str_to_list(ans_str))}\n",
    "    \n",
    "    for ans in str_to_list(ans_str):\n",
    "        if ans not in ans_info:\n",
    "            ans_info[ans] = []\n",
    "        ans_info[ans].append(apno)"
   ]
  },
  {
   "cell_type": "code",
   "execution_count": 43,
   "metadata": {
    "code_folding": []
   },
   "outputs": [],
   "source": [
    "pv_calculate = 0\n",
    "for apno in ans_info['6c576d44-fe6b-11ec-92b3-aa02190e6163']:\n",
    "    fid = apno_info[apno]['fid']\n",
    "    count_ans = apno_info[apno]['ans_count']\n",
    "    fam_pv = fam_info[fid]['pv']\n",
    "    count_apno = fam_info[fid]['count_apno']\n",
    "    \n",
    "    pv_calculate += fam_pv/count_apno/count_ans"
   ]
  },
  {
   "cell_type": "code",
   "execution_count": 44,
   "metadata": {},
   "outputs": [
    {
     "data": {
      "text/plain": [
       "1783100.0"
      ]
     },
     "execution_count": 44,
     "metadata": {},
     "output_type": "execute_result"
    }
   ],
   "source": [
    "#6c576d44-fe6b-11ec-92b3-aa02190e6163\n",
    "pv_calculate"
   ]
  },
  {
   "cell_type": "code",
   "execution_count": 35,
   "metadata": {},
   "outputs": [
    {
     "data": {
      "text/plain": [
       "16320489509.978342"
      ]
     },
     "execution_count": 35,
     "metadata": {},
     "output_type": "execute_result"
    }
   ],
   "source": [
    "#f039e90a-679c-4c50-ab06-72d03d496c4f\n",
    "pv_calculate"
   ]
  },
  {
   "cell_type": "code",
   "execution_count": 25,
   "metadata": {},
   "outputs": [
    {
     "data": {
      "text/plain": [
       "299199.99999999994"
      ]
     },
     "execution_count": 25,
     "metadata": {},
     "output_type": "execute_result"
    }
   ],
   "source": [
    "# d57c3f29-4027-44a8-b580-1eed0cbb8ef6\n",
    "pv_calculate"
   ]
  },
  {
   "cell_type": "code",
   "execution_count": 26,
   "metadata": {},
   "outputs": [
    {
     "data": {
      "text/plain": [
       "299199.99999999994"
      ]
     },
     "execution_count": 26,
     "metadata": {},
     "output_type": "execute_result"
    }
   ],
   "source": [
    "#fe23f8a8-ebc0-4a77-826a-8fd1b5f5259f\n",
    "pv_calculate"
   ]
  },
  {
   "cell_type": "code",
   "execution_count": 62,
   "metadata": {},
   "outputs": [
    {
     "data": {
      "text/plain": [
       "335.43999999999994"
      ]
     },
     "execution_count": 62,
     "metadata": {},
     "output_type": "execute_result"
    }
   ],
   "source": [
    "pv_calculate*7/10000"
   ]
  },
  {
   "cell_type": "code",
   "execution_count": 44,
   "metadata": {},
   "outputs": [
    {
     "data": {
      "text/plain": [
       "12069499.999999998"
      ]
     },
     "execution_count": 44,
     "metadata": {},
     "output_type": "execute_result"
    }
   ],
   "source": [
    "# 343d9c19-e121-44d6-8078-2ff3620b7309\n",
    "pv_calculate"
   ]
  },
  {
   "cell_type": "code",
   "execution_count": 45,
   "metadata": {},
   "outputs": [
    {
     "data": {
      "text/plain": [
       "8448.649999999998"
      ]
     },
     "execution_count": 45,
     "metadata": {},
     "output_type": "execute_result"
    }
   ],
   "source": [
    "pv_calculate*7/10000"
   ]
  },
  {
   "cell_type": "code",
   "execution_count": 37,
   "metadata": {},
   "outputs": [
    {
     "data": {
      "text/plain": [
       "7637.466666666667"
      ]
     },
     "execution_count": 37,
     "metadata": {},
     "output_type": "execute_result"
    }
   ],
   "source": [
    "# d259c110-99f6-4b44-9817-4e5b09fcf611\n",
    "pv_calculate*7/10000"
   ]
  },
  {
   "cell_type": "code",
   "execution_count": 54,
   "metadata": {},
   "outputs": [
    {
     "data": {
      "text/plain": [
       "9458000.0"
      ]
     },
     "execution_count": 54,
     "metadata": {},
     "output_type": "execute_result"
    }
   ],
   "source": [
    "# d259c110-99f6-4b44-9817-4e5b09fcf611\n",
    "pv_calculate"
   ]
  }
 ],
 "metadata": {
  "kernelspec": {
   "display_name": "Python 3 (ipykernel)",
   "language": "python",
   "name": "python3"
  },
  "language_info": {
   "codemirror_mode": {
    "name": "ipython",
    "version": 3
   },
   "file_extension": ".py",
   "mimetype": "text/x-python",
   "name": "python",
   "nbconvert_exporter": "python",
   "pygments_lexer": "ipython3",
   "version": "3.7.11"
  },
  "toc": {
   "base_numbering": 1,
   "nav_menu": {},
   "number_sections": true,
   "sideBar": true,
   "skip_h1_title": false,
   "title_cell": "Table of Contents",
   "title_sidebar": "Contents",
   "toc_cell": false,
   "toc_position": {},
   "toc_section_display": true,
   "toc_window_display": false
  },
  "varInspector": {
   "cols": {
    "lenName": 16,
    "lenType": 16,
    "lenVar": 40
   },
   "kernels_config": {
    "python": {
     "delete_cmd_postfix": "",
     "delete_cmd_prefix": "del ",
     "library": "var_list.py",
     "varRefreshCmd": "print(var_dic_list())"
    },
    "r": {
     "delete_cmd_postfix": ") ",
     "delete_cmd_prefix": "rm(",
     "library": "var_list.r",
     "varRefreshCmd": "cat(var_dic_list()) "
    }
   },
   "types_to_exclude": [
    "module",
    "function",
    "builtin_function_or_method",
    "instance",
    "_Feature"
   ],
   "window_display": false
  }
 },
 "nbformat": 4,
 "nbformat_minor": 2
}
