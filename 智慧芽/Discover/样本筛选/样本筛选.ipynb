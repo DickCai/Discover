{
 "cells": [
  {
   "cell_type": "code",
   "execution_count": 1,
   "id": "486234e7",
   "metadata": {},
   "outputs": [],
   "source": [
    "import pandas as pd\n",
    "import os"
   ]
  },
  {
   "cell_type": "markdown",
   "id": "d46d4d85",
   "metadata": {},
   "source": [
    "# 测试集清洗"
   ]
  },
  {
   "cell_type": "code",
   "execution_count": 3,
   "id": "dbf47bd0",
   "metadata": {},
   "outputs": [],
   "source": [
    "os.chdir('/Users/caicaiqijun/智慧牙/数据/Discover/测试集/正样本')"
   ]
  },
  {
   "cell_type": "markdown",
   "id": "50aec6d9",
   "metadata": {},
   "source": [
    "SELECT entity_id,ans_ids,name FROM(\n",
    "SELECT * FROM npd_dw.organization  o\n",
    "join (SELECT ans_id as ans_ids,org_id FROM npd_dw.ans_organization_mapping) aom\n",
    "on o.entity_id=aom.org_id\n",
    ")where name='Vinted UAB' "
   ]
  },
  {
   "cell_type": "markdown",
   "id": "5893639c",
   "metadata": {},
   "source": [
    "# sample_index"
   ]
  },
  {
   "cell_type": "code",
   "execution_count": 39,
   "id": "a57c2f6b",
   "metadata": {
    "scrolled": true
   },
   "outputs": [
    {
     "data": {
      "text/html": [
       "<div>\n",
       "<style scoped>\n",
       "    .dataframe tbody tr th:only-of-type {\n",
       "        vertical-align: middle;\n",
       "    }\n",
       "\n",
       "    .dataframe tbody tr th {\n",
       "        vertical-align: top;\n",
       "    }\n",
       "\n",
       "    .dataframe thead th {\n",
       "        text-align: right;\n",
       "    }\n",
       "</style>\n",
       "<table border=\"1\" class=\"dataframe\">\n",
       "  <thead>\n",
       "    <tr style=\"text-align: right;\">\n",
       "      <th></th>\n",
       "      <th>entity_id</th>\n",
       "      <th>ans_id</th>\n",
       "      <th>company_name</th>\n",
       "      <th>patent_valid_ratio</th>\n",
       "      <th>apno_cnt</th>\n",
       "      <th>granted_invention_cnt_pb_original_2y</th>\n",
       "      <th>granted_invention_cnt_pb_1y</th>\n",
       "      <th>granted_invention_ratio</th>\n",
       "      <th>apno_cnt_valid_5y</th>\n",
       "      <th>pct_apno_cnt</th>\n",
       "      <th>invention_cnt_validity_higher_10</th>\n",
       "      <th>invention_cnt_validity_higher_5_lower_10</th>\n",
       "      <th>invention_cnt_validity_lower_5</th>\n",
       "      <th>patent_invalid_ratio</th>\n",
       "    </tr>\n",
       "  </thead>\n",
       "  <tbody>\n",
       "    <tr>\n",
       "      <th>0</th>\n",
       "      <td>d658442907288561ba21871a5a0fd9da</td>\n",
       "      <td>c70ebbf8-9242-4bf3-9404-d1c47633bfb7</td>\n",
       "      <td>Earth Island</td>\n",
       "      <td>1.000000</td>\n",
       "      <td>12</td>\n",
       "      <td>1</td>\n",
       "      <td>1</td>\n",
       "      <td>0.416667</td>\n",
       "      <td>2</td>\n",
       "      <td>3</td>\n",
       "      <td>5</td>\n",
       "      <td>0</td>\n",
       "      <td>0</td>\n",
       "      <td>0.000000</td>\n",
       "    </tr>\n",
       "    <tr>\n",
       "      <th>1</th>\n",
       "      <td>5b1c4b22419292f6d19996739a4d2d7b</td>\n",
       "      <td>71cdc9d0-462c-44ea-a1d5-9e03555e74f4</td>\n",
       "      <td>NaN</td>\n",
       "      <td>1.000000</td>\n",
       "      <td>1</td>\n",
       "      <td>0</td>\n",
       "      <td>0</td>\n",
       "      <td>0.000000</td>\n",
       "      <td>0</td>\n",
       "      <td>0</td>\n",
       "      <td>0</td>\n",
       "      <td>0</td>\n",
       "      <td>0</td>\n",
       "      <td>0.000000</td>\n",
       "    </tr>\n",
       "    <tr>\n",
       "      <th>2</th>\n",
       "      <td>3588f753e9db21efdbffcca6a16265c3</td>\n",
       "      <td>cf254855-3479-4892-83ba-5cbdc9ac8ba6</td>\n",
       "      <td>Intellectual Ventures Holding 83 LLC</td>\n",
       "      <td>NaN</td>\n",
       "      <td>0</td>\n",
       "      <td>0</td>\n",
       "      <td>0</td>\n",
       "      <td>NaN</td>\n",
       "      <td>0</td>\n",
       "      <td>0</td>\n",
       "      <td>0</td>\n",
       "      <td>0</td>\n",
       "      <td>0</td>\n",
       "      <td>NaN</td>\n",
       "    </tr>\n",
       "    <tr>\n",
       "      <th>3</th>\n",
       "      <td>415e0de65904971f707967cb9e95cea5</td>\n",
       "      <td>c201b966-0bd6-485c-affe-048f7d1ea894</td>\n",
       "      <td>Guangzhou Weili Lighting Science&amp;Technology Co...</td>\n",
       "      <td>0.000000</td>\n",
       "      <td>2</td>\n",
       "      <td>0</td>\n",
       "      <td>0</td>\n",
       "      <td>0.000000</td>\n",
       "      <td>0</td>\n",
       "      <td>0</td>\n",
       "      <td>0</td>\n",
       "      <td>0</td>\n",
       "      <td>0</td>\n",
       "      <td>1.000000</td>\n",
       "    </tr>\n",
       "    <tr>\n",
       "      <th>4</th>\n",
       "      <td>7cd5ebf1a4ce920fe4e48e04a214e8ec</td>\n",
       "      <td>e4320e3e-e282-4e83-a46e-9d160663c344</td>\n",
       "      <td>Universitat Internacional de Catalunya</td>\n",
       "      <td>0.300000</td>\n",
       "      <td>10</td>\n",
       "      <td>0</td>\n",
       "      <td>0</td>\n",
       "      <td>0.100000</td>\n",
       "      <td>1</td>\n",
       "      <td>2</td>\n",
       "      <td>0</td>\n",
       "      <td>1</td>\n",
       "      <td>0</td>\n",
       "      <td>0.700000</td>\n",
       "    </tr>\n",
       "    <tr>\n",
       "      <th>...</th>\n",
       "      <td>...</td>\n",
       "      <td>...</td>\n",
       "      <td>...</td>\n",
       "      <td>...</td>\n",
       "      <td>...</td>\n",
       "      <td>...</td>\n",
       "      <td>...</td>\n",
       "      <td>...</td>\n",
       "      <td>...</td>\n",
       "      <td>...</td>\n",
       "      <td>...</td>\n",
       "      <td>...</td>\n",
       "      <td>...</td>\n",
       "      <td>...</td>\n",
       "    </tr>\n",
       "    <tr>\n",
       "      <th>735013</th>\n",
       "      <td>094596a787f7fbae2b191ca04b317221</td>\n",
       "      <td>0c89fa5e-70cd-4a2e-bddd-316c0088f987</td>\n",
       "      <td>NaN</td>\n",
       "      <td>0.666667</td>\n",
       "      <td>6</td>\n",
       "      <td>0</td>\n",
       "      <td>0</td>\n",
       "      <td>0.000000</td>\n",
       "      <td>4</td>\n",
       "      <td>0</td>\n",
       "      <td>0</td>\n",
       "      <td>0</td>\n",
       "      <td>0</td>\n",
       "      <td>0.333333</td>\n",
       "    </tr>\n",
       "    <tr>\n",
       "      <th>735014</th>\n",
       "      <td>358c0524602cd8248aaa1d2c01005cd3</td>\n",
       "      <td>adcbf8b3-fbad-4308-842f-f294fc3a54f3</td>\n",
       "      <td>Berhalter GmbH</td>\n",
       "      <td>0.833333</td>\n",
       "      <td>42</td>\n",
       "      <td>9</td>\n",
       "      <td>4</td>\n",
       "      <td>0.452381</td>\n",
       "      <td>11</td>\n",
       "      <td>4</td>\n",
       "      <td>17</td>\n",
       "      <td>0</td>\n",
       "      <td>0</td>\n",
       "      <td>0.166667</td>\n",
       "    </tr>\n",
       "    <tr>\n",
       "      <th>735015</th>\n",
       "      <td>0ce823d4c70c67f7178a572fb5144694</td>\n",
       "      <td>b46381c5-03d7-4afa-84b1-f2001fb26776</td>\n",
       "      <td>LuvHolding Oy</td>\n",
       "      <td>0.314286</td>\n",
       "      <td>140</td>\n",
       "      <td>0</td>\n",
       "      <td>0</td>\n",
       "      <td>0.100000</td>\n",
       "      <td>0</td>\n",
       "      <td>12</td>\n",
       "      <td>0</td>\n",
       "      <td>0</td>\n",
       "      <td>12</td>\n",
       "      <td>0.685714</td>\n",
       "    </tr>\n",
       "    <tr>\n",
       "      <th>735016</th>\n",
       "      <td>4dd837169070b9a8b13bb11b6dccd05b</td>\n",
       "      <td>85d3dbf5-5728-4568-b800-f476063d343f</td>\n",
       "      <td>NaN</td>\n",
       "      <td>0.200000</td>\n",
       "      <td>20</td>\n",
       "      <td>3</td>\n",
       "      <td>1</td>\n",
       "      <td>0.150000</td>\n",
       "      <td>4</td>\n",
       "      <td>0</td>\n",
       "      <td>3</td>\n",
       "      <td>0</td>\n",
       "      <td>0</td>\n",
       "      <td>0.800000</td>\n",
       "    </tr>\n",
       "    <tr>\n",
       "      <th>735017</th>\n",
       "      <td>e6f5c9dee33af436b203fec3bc0bd1b9</td>\n",
       "      <td>1825ac0c-c0a1-4600-b31e-e6054f20692f</td>\n",
       "      <td>OCEAN TECHNIC LIMITED</td>\n",
       "      <td>1.000000</td>\n",
       "      <td>6</td>\n",
       "      <td>0</td>\n",
       "      <td>0</td>\n",
       "      <td>0.333333</td>\n",
       "      <td>0</td>\n",
       "      <td>0</td>\n",
       "      <td>0</td>\n",
       "      <td>0</td>\n",
       "      <td>2</td>\n",
       "      <td>0.000000</td>\n",
       "    </tr>\n",
       "  </tbody>\n",
       "</table>\n",
       "<p>735018 rows × 14 columns</p>\n",
       "</div>"
      ],
      "text/plain": [
       "                               entity_id  \\\n",
       "0       d658442907288561ba21871a5a0fd9da   \n",
       "1       5b1c4b22419292f6d19996739a4d2d7b   \n",
       "2       3588f753e9db21efdbffcca6a16265c3   \n",
       "3       415e0de65904971f707967cb9e95cea5   \n",
       "4       7cd5ebf1a4ce920fe4e48e04a214e8ec   \n",
       "...                                  ...   \n",
       "735013  094596a787f7fbae2b191ca04b317221   \n",
       "735014  358c0524602cd8248aaa1d2c01005cd3   \n",
       "735015  0ce823d4c70c67f7178a572fb5144694   \n",
       "735016  4dd837169070b9a8b13bb11b6dccd05b   \n",
       "735017  e6f5c9dee33af436b203fec3bc0bd1b9   \n",
       "\n",
       "                                      ans_id  \\\n",
       "0       c70ebbf8-9242-4bf3-9404-d1c47633bfb7   \n",
       "1       71cdc9d0-462c-44ea-a1d5-9e03555e74f4   \n",
       "2       cf254855-3479-4892-83ba-5cbdc9ac8ba6   \n",
       "3       c201b966-0bd6-485c-affe-048f7d1ea894   \n",
       "4       e4320e3e-e282-4e83-a46e-9d160663c344   \n",
       "...                                      ...   \n",
       "735013  0c89fa5e-70cd-4a2e-bddd-316c0088f987   \n",
       "735014  adcbf8b3-fbad-4308-842f-f294fc3a54f3   \n",
       "735015  b46381c5-03d7-4afa-84b1-f2001fb26776   \n",
       "735016  85d3dbf5-5728-4568-b800-f476063d343f   \n",
       "735017  1825ac0c-c0a1-4600-b31e-e6054f20692f   \n",
       "\n",
       "                                             company_name  patent_valid_ratio  \\\n",
       "0                                            Earth Island            1.000000   \n",
       "1                                                     NaN            1.000000   \n",
       "2                    Intellectual Ventures Holding 83 LLC                 NaN   \n",
       "3       Guangzhou Weili Lighting Science&Technology Co...            0.000000   \n",
       "4                  Universitat Internacional de Catalunya            0.300000   \n",
       "...                                                   ...                 ...   \n",
       "735013                                                NaN            0.666667   \n",
       "735014                                     Berhalter GmbH            0.833333   \n",
       "735015                                      LuvHolding Oy            0.314286   \n",
       "735016                                                NaN            0.200000   \n",
       "735017                              OCEAN TECHNIC LIMITED            1.000000   \n",
       "\n",
       "        apno_cnt  granted_invention_cnt_pb_original_2y  \\\n",
       "0             12                                     1   \n",
       "1              1                                     0   \n",
       "2              0                                     0   \n",
       "3              2                                     0   \n",
       "4             10                                     0   \n",
       "...          ...                                   ...   \n",
       "735013         6                                     0   \n",
       "735014        42                                     9   \n",
       "735015       140                                     0   \n",
       "735016        20                                     3   \n",
       "735017         6                                     0   \n",
       "\n",
       "        granted_invention_cnt_pb_1y  granted_invention_ratio  \\\n",
       "0                                 1                 0.416667   \n",
       "1                                 0                 0.000000   \n",
       "2                                 0                      NaN   \n",
       "3                                 0                 0.000000   \n",
       "4                                 0                 0.100000   \n",
       "...                             ...                      ...   \n",
       "735013                            0                 0.000000   \n",
       "735014                            4                 0.452381   \n",
       "735015                            0                 0.100000   \n",
       "735016                            1                 0.150000   \n",
       "735017                            0                 0.333333   \n",
       "\n",
       "        apno_cnt_valid_5y  pct_apno_cnt  invention_cnt_validity_higher_10  \\\n",
       "0                       2             3                                 5   \n",
       "1                       0             0                                 0   \n",
       "2                       0             0                                 0   \n",
       "3                       0             0                                 0   \n",
       "4                       1             2                                 0   \n",
       "...                   ...           ...                               ...   \n",
       "735013                  4             0                                 0   \n",
       "735014                 11             4                                17   \n",
       "735015                  0            12                                 0   \n",
       "735016                  4             0                                 3   \n",
       "735017                  0             0                                 0   \n",
       "\n",
       "        invention_cnt_validity_higher_5_lower_10  \\\n",
       "0                                              0   \n",
       "1                                              0   \n",
       "2                                              0   \n",
       "3                                              0   \n",
       "4                                              1   \n",
       "...                                          ...   \n",
       "735013                                         0   \n",
       "735014                                         0   \n",
       "735015                                         0   \n",
       "735016                                         0   \n",
       "735017                                         0   \n",
       "\n",
       "        invention_cnt_validity_lower_5  patent_invalid_ratio  \n",
       "0                                    0              0.000000  \n",
       "1                                    0              0.000000  \n",
       "2                                    0                   NaN  \n",
       "3                                    0              1.000000  \n",
       "4                                    0              0.700000  \n",
       "...                                ...                   ...  \n",
       "735013                               0              0.333333  \n",
       "735014                               0              0.166667  \n",
       "735015                              12              0.685714  \n",
       "735016                               0              0.800000  \n",
       "735017                               2              0.000000  \n",
       "\n",
       "[735018 rows x 14 columns]"
      ]
     },
     "execution_count": 39,
     "metadata": {},
     "output_type": "execute_result"
    }
   ],
   "source": [
    "sample_index=pd.read_csv('sample_index.csv')\n",
    "sample_index"
   ]
  },
  {
   "cell_type": "code",
   "execution_count": 40,
   "id": "499dab4e",
   "metadata": {},
   "outputs": [
    {
     "data": {
      "text/plain": [
       "7.0"
      ]
     },
     "execution_count": 40,
     "metadata": {},
     "output_type": "execute_result"
    }
   ],
   "source": [
    "sample_index['pct_apno_cnt'].quantile(0.95)"
   ]
  },
  {
   "cell_type": "code",
   "execution_count": 12,
   "id": "68ef03e9",
   "metadata": {},
   "outputs": [
    {
     "data": {
      "text/plain": [
       "119.0"
      ]
     },
     "execution_count": 12,
     "metadata": {},
     "output_type": "execute_result"
    }
   ],
   "source": [
    "sample_index['apno_cnt'].quantile(0.95)"
   ]
  },
  {
   "cell_type": "code",
   "execution_count": 28,
   "id": "5cbec914",
   "metadata": {},
   "outputs": [
    {
     "data": {
      "text/plain": [
       "33.0"
      ]
     },
     "execution_count": 28,
     "metadata": {},
     "output_type": "execute_result"
    }
   ],
   "source": [
    "sample_index['granted_invention_cnt_pb_original_2y'].quantile(0.99)"
   ]
  },
  {
   "cell_type": "code",
   "execution_count": 29,
   "id": "2f5ce0d8",
   "metadata": {},
   "outputs": [
    {
     "data": {
      "text/plain": [
       "18.0"
      ]
     },
     "execution_count": 29,
     "metadata": {},
     "output_type": "execute_result"
    }
   ],
   "source": [
    "sample_index['granted_invention_cnt_pb_1y'].quantile(0.99)"
   ]
  },
  {
   "cell_type": "code",
   "execution_count": 35,
   "id": "d1019078",
   "metadata": {},
   "outputs": [
    {
     "data": {
      "text/plain": [
       "Index(['entity_id', 'ans_id', 'company_name', 'patent_valid_ratio', 'apno_cnt',\n",
       "       'granted_invention_cnt_pb_original_2y', 'granted_invention_cnt_pb_1y',\n",
       "       'granted_invention_ratio', 'apno_cnt_valid_5y',\n",
       "       'invention_cnt_validity_higher_10',\n",
       "       'invention_cnt_validity_higher_5_lower_10',\n",
       "       'invention_cnt_validity_lower_5', 'patent_invalid_ratio'],\n",
       "      dtype='object')"
      ]
     },
     "execution_count": 35,
     "metadata": {},
     "output_type": "execute_result"
    }
   ],
   "source": [
    "sample_index.columns"
   ]
  },
  {
   "cell_type": "markdown",
   "id": "65633439",
   "metadata": {},
   "source": [
    "# 负样本"
   ]
  },
  {
   "cell_type": "markdown",
   "id": "1b7fb723",
   "metadata": {},
   "source": [
    "## 失效占比大于0.9"
   ]
  },
  {
   "cell_type": "code",
   "execution_count": 11,
   "id": "984bce1d",
   "metadata": {
    "scrolled": true
   },
   "outputs": [],
   "source": [
    "sample_index.query('patent_invalid_ratio>0.9').sample(n=200)[['entity_id',\n",
    "                                                              'ans_id','company_name','patent_invalid_ratio']].to_excel('专利失效占比大于0.9的企业.xlsx',encoding='utf-8',index=False)"
   ]
  },
  {
   "cell_type": "markdown",
   "id": "79e95289",
   "metadata": {},
   "source": [
    "## 失效占比大于0.9并且apno_cnt大于0.95分位数"
   ]
  },
  {
   "cell_type": "code",
   "execution_count": 16,
   "id": "02a1a365",
   "metadata": {},
   "outputs": [],
   "source": [
    "sample_index.query('patent_invalid_ratio>0.9 and apno_cnt>119').sample(n=200)[['entity_id',\n",
    "                                                              'ans_id','company_name','apno_cnt','patent_invalid_ratio']].to_excel('失效占比大于0.9并且apno_cnt大于0.95分位数.xlsx',encoding='utf-8',index=False)"
   ]
  },
  {
   "cell_type": "markdown",
   "id": "dd841bb1",
   "metadata": {},
   "source": [
    "## apno_cnt大于0.95分位数并且近五年有效专利为0"
   ]
  },
  {
   "cell_type": "code",
   "execution_count": 17,
   "id": "edbc0f93",
   "metadata": {
    "scrolled": true
   },
   "outputs": [],
   "source": [
    "sample_index.query('apno_cnt>119 and apno_cnt_valid_5y<1').sample(n=200)[['entity_id',\n",
    "                                                              'ans_id','company_name','apno_cnt','apno_cnt_valid_5y']].to_excel('apno_cnt大于0.95分位数并且近五年有效专利为0.xlsx',encoding='utf-8',index=False)"
   ]
  },
  {
   "cell_type": "markdown",
   "id": "7eb40fc0",
   "metadata": {},
   "source": [
    "## apno_cnt大于0.95分位数并且近2年原始申请有效发明专利总量为0"
   ]
  },
  {
   "cell_type": "code",
   "execution_count": 23,
   "id": "892a97bc",
   "metadata": {
    "scrolled": true
   },
   "outputs": [],
   "source": [
    "sample_index.query('apno_cnt>119 and granted_invention_cnt_pb_original_2y<1').sample(n=200)[['entity_id',\n",
    "                                                              'ans_id','company_name','apno_cnt','granted_invention_cnt_pb_original_2y']].to_excel('apno_cnt大于0.95分位数并且近2年原始申请有效发明专利总量为0.xlsx',encoding='utf-8',index=False)"
   ]
  },
  {
   "cell_type": "markdown",
   "id": "0d6759e2",
   "metadata": {},
   "source": [
    "# 正样本"
   ]
  },
  {
   "cell_type": "markdown",
   "id": "5ca7facb",
   "metadata": {},
   "source": [
    "## granted_invention_cnt_pb_original_2y数量大于0.95分位数"
   ]
  },
  {
   "cell_type": "code",
   "execution_count": 48,
   "id": "91b82a76",
   "metadata": {
    "scrolled": true
   },
   "outputs": [
    {
     "data": {
      "text/html": [
       "<div>\n",
       "<style scoped>\n",
       "    .dataframe tbody tr th:only-of-type {\n",
       "        vertical-align: middle;\n",
       "    }\n",
       "\n",
       "    .dataframe tbody tr th {\n",
       "        vertical-align: top;\n",
       "    }\n",
       "\n",
       "    .dataframe thead th {\n",
       "        text-align: right;\n",
       "    }\n",
       "</style>\n",
       "<table border=\"1\" class=\"dataframe\">\n",
       "  <thead>\n",
       "    <tr style=\"text-align: right;\">\n",
       "      <th></th>\n",
       "      <th>entity_id</th>\n",
       "      <th>ans_id</th>\n",
       "      <th>company_name</th>\n",
       "      <th>apno_cnt</th>\n",
       "      <th>granted_invention_cnt_pb_original_2y</th>\n",
       "    </tr>\n",
       "  </thead>\n",
       "  <tbody>\n",
       "    <tr>\n",
       "      <th>554766</th>\n",
       "      <td>d404dac63bc3f96716adfbe1abac53da</td>\n",
       "      <td>e1dacba6-d82d-422d-9bdd-8e5e5eb87d7d</td>\n",
       "      <td>DCM Daiki Co., Ltd.</td>\n",
       "      <td>813</td>\n",
       "      <td>38</td>\n",
       "    </tr>\n",
       "    <tr>\n",
       "      <th>620729</th>\n",
       "      <td>8663a095ed1ebae908819d716d1cdd02</td>\n",
       "      <td>622ab7eb-abd7-4677-ad00-5832ef25ab80</td>\n",
       "      <td>Universite Clermont Auvergne</td>\n",
       "      <td>387</td>\n",
       "      <td>53</td>\n",
       "    </tr>\n",
       "    <tr>\n",
       "      <th>430972</th>\n",
       "      <td>84cb419e16700742d933254e884641b5</td>\n",
       "      <td>aecaa961-8fec-4348-a58e-a60406335886</td>\n",
       "      <td>NaN</td>\n",
       "      <td>393</td>\n",
       "      <td>75</td>\n",
       "    </tr>\n",
       "    <tr>\n",
       "      <th>711655</th>\n",
       "      <td>f6e745b884f198f588309d12363cfa22</td>\n",
       "      <td>0cc0d571-4fb8-4b52-820a-6f87d17ecd93</td>\n",
       "      <td>Nanyang Technological University</td>\n",
       "      <td>4218</td>\n",
       "      <td>236</td>\n",
       "    </tr>\n",
       "    <tr>\n",
       "      <th>123013</th>\n",
       "      <td>091554a8c3cf1ad16007a7b1f0a143dc</td>\n",
       "      <td>80502c49-f0fb-40bf-9751-7e4347727487</td>\n",
       "      <td>Fresenius Medical Care Deutschland GmbH</td>\n",
       "      <td>7885</td>\n",
       "      <td>609</td>\n",
       "    </tr>\n",
       "    <tr>\n",
       "      <th>...</th>\n",
       "      <td>...</td>\n",
       "      <td>...</td>\n",
       "      <td>...</td>\n",
       "      <td>...</td>\n",
       "      <td>...</td>\n",
       "    </tr>\n",
       "    <tr>\n",
       "      <th>159749</th>\n",
       "      <td>b9f168432a1a2f1ac955b7a61ebb6a77</td>\n",
       "      <td>af52d011-4200-44c8-9ee4-ad5eb6009780</td>\n",
       "      <td>Net Corp.</td>\n",
       "      <td>828</td>\n",
       "      <td>64</td>\n",
       "    </tr>\n",
       "    <tr>\n",
       "      <th>108840</th>\n",
       "      <td>35dcb90365e9bcbf2f76b15e894efb9b</td>\n",
       "      <td>5a99b31f-0a79-4be7-8f41-e67f09e6dd0b</td>\n",
       "      <td>CNOOC China Limited</td>\n",
       "      <td>653</td>\n",
       "      <td>93</td>\n",
       "    </tr>\n",
       "    <tr>\n",
       "      <th>566277</th>\n",
       "      <td>9b0beb8f72592b4222e6968c557415aa</td>\n",
       "      <td>7a2f8ffc-0731-4556-a4e3-5978999fdae0</td>\n",
       "      <td>Hua Nan Commercial Bank Ltd.</td>\n",
       "      <td>252</td>\n",
       "      <td>89</td>\n",
       "    </tr>\n",
       "    <tr>\n",
       "      <th>535293</th>\n",
       "      <td>05f458768a7f118f25451a529ffdb5b2</td>\n",
       "      <td>4fbc6fcc-f166-4453-bc33-754e2a863546</td>\n",
       "      <td>Hiroshima University</td>\n",
       "      <td>3432</td>\n",
       "      <td>202</td>\n",
       "    </tr>\n",
       "    <tr>\n",
       "      <th>503532</th>\n",
       "      <td>02a86edc60a48a2ed566e7eb6d00d69e</td>\n",
       "      <td>209c657c-5740-464c-a96b-29fd3f5a4e38</td>\n",
       "      <td>Daqing Oilfield Co., Ltd.</td>\n",
       "      <td>3600</td>\n",
       "      <td>198</td>\n",
       "    </tr>\n",
       "  </tbody>\n",
       "</table>\n",
       "<p>200 rows × 5 columns</p>\n",
       "</div>"
      ],
      "text/plain": [
       "                               entity_id  \\\n",
       "554766  d404dac63bc3f96716adfbe1abac53da   \n",
       "620729  8663a095ed1ebae908819d716d1cdd02   \n",
       "430972  84cb419e16700742d933254e884641b5   \n",
       "711655  f6e745b884f198f588309d12363cfa22   \n",
       "123013  091554a8c3cf1ad16007a7b1f0a143dc   \n",
       "...                                  ...   \n",
       "159749  b9f168432a1a2f1ac955b7a61ebb6a77   \n",
       "108840  35dcb90365e9bcbf2f76b15e894efb9b   \n",
       "566277  9b0beb8f72592b4222e6968c557415aa   \n",
       "535293  05f458768a7f118f25451a529ffdb5b2   \n",
       "503532  02a86edc60a48a2ed566e7eb6d00d69e   \n",
       "\n",
       "                                      ans_id  \\\n",
       "554766  e1dacba6-d82d-422d-9bdd-8e5e5eb87d7d   \n",
       "620729  622ab7eb-abd7-4677-ad00-5832ef25ab80   \n",
       "430972  aecaa961-8fec-4348-a58e-a60406335886   \n",
       "711655  0cc0d571-4fb8-4b52-820a-6f87d17ecd93   \n",
       "123013  80502c49-f0fb-40bf-9751-7e4347727487   \n",
       "...                                      ...   \n",
       "159749  af52d011-4200-44c8-9ee4-ad5eb6009780   \n",
       "108840  5a99b31f-0a79-4be7-8f41-e67f09e6dd0b   \n",
       "566277  7a2f8ffc-0731-4556-a4e3-5978999fdae0   \n",
       "535293  4fbc6fcc-f166-4453-bc33-754e2a863546   \n",
       "503532  209c657c-5740-464c-a96b-29fd3f5a4e38   \n",
       "\n",
       "                                   company_name  apno_cnt  \\\n",
       "554766                      DCM Daiki Co., Ltd.       813   \n",
       "620729             Universite Clermont Auvergne       387   \n",
       "430972                                      NaN       393   \n",
       "711655         Nanyang Technological University      4218   \n",
       "123013  Fresenius Medical Care Deutschland GmbH      7885   \n",
       "...                                         ...       ...   \n",
       "159749                                Net Corp.       828   \n",
       "108840                      CNOOC China Limited       653   \n",
       "566277             Hua Nan Commercial Bank Ltd.       252   \n",
       "535293                     Hiroshima University      3432   \n",
       "503532                Daqing Oilfield Co., Ltd.      3600   \n",
       "\n",
       "        granted_invention_cnt_pb_original_2y  \n",
       "554766                                    38  \n",
       "620729                                    53  \n",
       "430972                                    75  \n",
       "711655                                   236  \n",
       "123013                                   609  \n",
       "...                                      ...  \n",
       "159749                                    64  \n",
       "108840                                    93  \n",
       "566277                                    89  \n",
       "535293                                   202  \n",
       "503532                                   198  \n",
       "\n",
       "[200 rows x 5 columns]"
      ]
     },
     "execution_count": 48,
     "metadata": {},
     "output_type": "execute_result"
    }
   ],
   "source": [
    "sample_index.query('granted_invention_cnt_pb_original_2y>33').sample(n=200)[['entity_id','ans_id','company_name','apno_cnt','granted_invention_cnt_pb_original_2y']]"
   ]
  },
  {
   "cell_type": "code",
   "execution_count": 50,
   "id": "a28e8d73",
   "metadata": {
    "scrolled": true
   },
   "outputs": [],
   "source": [
    "sample_index.query('granted_invention_cnt_pb_original_2y>33').sample(n=200)[['entity_id','ans_id','company_name','apno_cnt','granted_invention_cnt_pb_original_2y']].to_excel('granted_2y数量大于0.95分位数.xlsx',encoding='utf-8',index=False)"
   ]
  },
  {
   "cell_type": "markdown",
   "id": "ec689f23",
   "metadata": {},
   "source": [
    "## pct_apno_cnt数量大于0.95分位数 "
   ]
  },
  {
   "cell_type": "code",
   "execution_count": 42,
   "id": "77ad750a",
   "metadata": {},
   "outputs": [],
   "source": [
    "sample_index.query('pct_apno_cnt>7').sample(n=200)[['entity_id',\n",
    "                                                              'ans_id','company_name','apno_cnt','pct_apno_cnt']].to_excel('pct_apno_cnt数量大于0.95分位数.xlsx',encoding='utf-8',index=False)"
   ]
  },
  {
   "cell_type": "code",
   "execution_count": null,
   "id": "435633b1",
   "metadata": {},
   "outputs": [],
   "source": []
  }
 ],
 "metadata": {
  "kernelspec": {
   "display_name": "Python 3 (ipykernel)",
   "language": "python",
   "name": "python3"
  },
  "language_info": {
   "codemirror_mode": {
    "name": "ipython",
    "version": 3
   },
   "file_extension": ".py",
   "mimetype": "text/x-python",
   "name": "python",
   "nbconvert_exporter": "python",
   "pygments_lexer": "ipython3",
   "version": "3.7.11"
  },
  "toc": {
   "base_numbering": 1,
   "nav_menu": {},
   "number_sections": true,
   "sideBar": true,
   "skip_h1_title": false,
   "title_cell": "Table of Contents",
   "title_sidebar": "Contents",
   "toc_cell": false,
   "toc_position": {},
   "toc_section_display": true,
   "toc_window_display": true
  }
 },
 "nbformat": 4,
 "nbformat_minor": 5
}
